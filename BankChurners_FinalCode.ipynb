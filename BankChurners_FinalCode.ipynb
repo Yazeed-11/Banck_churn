{
 "cells": [
  {
   "cell_type": "markdown",
   "id": "c16b2b95",
   "metadata": {},
   "source": [
    "## **Machine Learning (ML) - Classification**\n",
    "### *Credit Card customers Predict Churning customers*"
   ]
  },
  {
   "cell_type": "markdown",
   "id": "b73a6c4a",
   "metadata": {},
   "source": [
    "### **Introduction**\n",
    "in this project the main thing is to predict between credit card and customers in general by using classification models for example :a manager at the bank is disturbed with more and more customers leaving their credit card services. They would really appreciate if one could predict for them who is gonna get churned so they can proactively go to the customer to provide them better services and turn customers' decisions in the opposite direction.\n",
    "\n",
    "### We will answer some questions, which are:\n",
    "* What is the most Income Category based on Attrition Flag?\n",
    "* Is the Education Level affect on the Income Category?\n",
    "* Does `Customer_Age` influnce the `Marital_Status`?\n",
    "* Which income category can be types with card category?\n"
   ]
  },
  {
   "cell_type": "markdown",
   "id": "60ea2c17",
   "metadata": {},
   "source": [
    "### **Data Features**\n",
    "#### **1. CLIENTNUM**\n",
    "Client number unique identifier for the customer holding the account.\n",
    "\n",
    "#### **2. Attrition_Flag**\n",
    "Internal event (customer activity) variable - if the account is closed then 1 else 0.\n",
    "\n",
    "#### **3. Customer_Age**\n",
    "Demographic variable - Customers Age in Years\n",
    "\n",
    "#### **4. Gender**\n",
    "Demographic variable - M=Male, F=Female\n",
    "\n",
    "#### **5. Dependent_count**\n",
    "Demographic variable - Number of dependents.\n",
    "\n",
    "#### **6. Education_Level**\n",
    "Demographic variable - Educational Qualification of the account holder (example: high school, college graduate, etc.).\n",
    "\n",
    "#### **7. Marital_Status**\n",
    "Demographic variable - Married, Single, Divorced, Unknown\n",
    "\n",
    "#### **8. Income_Category**\n",
    "Demographic variable - Annual Income Category of the account holder (< $40K, $40K - 60K, $60K - $80K, $80K-$120K, > $120K, Unknown)\n",
    "\n",
    "#### **9. Card_Category**\n",
    "Product Variable - Type of Card (Blue, Silver, Gold, Platinum)\n",
    "\n",
    "#### **10. Months_on_book**\n",
    "Period of relationship with bank\n"
   ]
  },
  {
   "cell_type": "markdown",
   "id": "62fb28ce",
   "metadata": {},
   "source": [
    "# **Part 1: Exploratory Data Analysis (EDA)**"
   ]
  },
  {
   "cell_type": "markdown",
   "id": "cf946edc",
   "metadata": {},
   "source": [
    "### Import libraries and load the dataset"
   ]
  },
  {
   "cell_type": "code",
   "execution_count": 7,
   "id": "bdfdeb94",
   "metadata": {
    "scrolled": true
   },
   "outputs": [],
   "source": [
    "!pip install lightgbm --quiet"
   ]
  },
  {
   "cell_type": "code",
   "execution_count": 8,
   "id": "8491fa57",
   "metadata": {
    "scrolled": true
   },
   "outputs": [],
   "source": [
    "!pip install imblearn --quiet"
   ]
  },
  {
   "cell_type": "code",
   "execution_count": 9,
   "id": "f895d159",
   "metadata": {},
   "outputs": [],
   "source": [
    "!pip install vecstack --quiet"
   ]
  },
  {
   "cell_type": "code",
   "execution_count": 10,
   "id": "b252c0fc",
   "metadata": {
    "scrolled": true
   },
   "outputs": [],
   "source": [
    "!pip install mlxtend --quiet"
   ]
  },
  {
   "cell_type": "code",
   "execution_count": 11,
   "id": "38a24bf1",
   "metadata": {},
   "outputs": [],
   "source": [
    "import numpy as np \n",
    "import pandas as pd\n",
    "import matplotlib.pyplot as plt\n",
    "import seaborn as sns\n",
    "plt.style.use('fivethirtyeight')\n",
    "import warnings\n",
    "import sklearn\n",
    "warnings.filterwarnings('ignore')\n",
    "%matplotlib inline\n",
    "\n",
    "# Importing SKLearn clssifiers and libraries\n",
    "from sklearn.preprocessing import MinMaxScaler\n",
    "from sklearn.feature_selection import SelectKBest, f_classif\n",
    "from sklearn import preprocessing\n",
    "from sklearn.model_selection import train_test_split\n",
    "from sklearn.neighbors import NearestNeighbors\n",
    "from sklearn.neighbors import KNeighborsClassifier\n",
    "from sklearn import metrics\n",
    "from sklearn.metrics import accuracy_score\n",
    "from sklearn.metrics import precision_recall_fscore_support\n",
    "from sklearn.model_selection import cross_val_score\n",
    "from sklearn.model_selection import KFold\n",
    "from sklearn.model_selection import GridSearchCV\n",
    "from sklearn.preprocessing import LabelEncoder\n",
    "from sklearn.preprocessing import OneHotEncoder\n",
    "from sklearn.preprocessing import StandardScaler\n",
    "from sklearn.ensemble import RandomForestClassifier\n",
    "from sklearn.metrics import confusion_matrix, accuracy_score\n",
    "from sklearn.tree import DecisionTreeClassifier\n",
    "from sklearn.svm import SVC\n",
    "from sklearn.neighbors import KNeighborsClassifier\n",
    "from sklearn.linear_model import LogisticRegression\n",
    "from sklearn.metrics import classification_report\n",
    "from sklearn import preprocessing\n",
    "from xgboost import XGBClassifier\n",
    "from lightgbm import LGBMClassifier\n",
    "from imblearn.over_sampling import SMOTE\n",
    "from imblearn.over_sampling import BorderlineSMOTE\n",
    "from imblearn.under_sampling import RandomUnderSampler\n",
    "from imblearn.combine import SMOTEENN\n",
    "from imblearn.over_sampling import ADASYN\n",
    "from imblearn.over_sampling import SMOTENC\n",
    "from sklearn.metrics import plot_confusion_matrix\n",
    "from imblearn.pipeline import Pipeline\n",
    "from sklearn.datasets import make_blobs\n",
    "from sklearn.model_selection import RepeatedStratifiedKFold\n",
    "from sklearn.model_selection import GridSearchCV\n",
    "from sklearn.svm import SVC \n",
    "from sklearn import svm\n",
    "from sklearn.model_selection import StratifiedKFold\n",
    "from vecstack import stacking\n",
    "from mlxtend.classifier import StackingCVClassifier"
   ]
  },
  {
   "cell_type": "code",
   "execution_count": 13,
   "id": "7cefebc9",
   "metadata": {
    "scrolled": true
   },
   "outputs": [],
   "source": [
    "df = pd.read_csv('BankChurners.csv')"
   ]
  },
  {
   "cell_type": "code",
   "execution_count": 14,
   "id": "fb5f9d75",
   "metadata": {},
   "outputs": [
    {
     "data": {
      "text/html": [
       "<div>\n",
       "<style scoped>\n",
       "    .dataframe tbody tr th:only-of-type {\n",
       "        vertical-align: middle;\n",
       "    }\n",
       "\n",
       "    .dataframe tbody tr th {\n",
       "        vertical-align: top;\n",
       "    }\n",
       "\n",
       "    .dataframe thead th {\n",
       "        text-align: right;\n",
       "    }\n",
       "</style>\n",
       "<table border=\"1\" class=\"dataframe\">\n",
       "  <thead>\n",
       "    <tr style=\"text-align: right;\">\n",
       "      <th></th>\n",
       "      <th>CLIENTNUM</th>\n",
       "      <th>Attrition_Flag</th>\n",
       "      <th>Customer_Age</th>\n",
       "      <th>Gender</th>\n",
       "      <th>Dependent_count</th>\n",
       "      <th>Education_Level</th>\n",
       "      <th>Marital_Status</th>\n",
       "      <th>Income_Category</th>\n",
       "      <th>Card_Category</th>\n",
       "      <th>Months_on_book</th>\n",
       "      <th>...</th>\n",
       "      <th>Credit_Limit</th>\n",
       "      <th>Total_Revolving_Bal</th>\n",
       "      <th>Avg_Open_To_Buy</th>\n",
       "      <th>Total_Amt_Chng_Q4_Q1</th>\n",
       "      <th>Total_Trans_Amt</th>\n",
       "      <th>Total_Trans_Ct</th>\n",
       "      <th>Total_Ct_Chng_Q4_Q1</th>\n",
       "      <th>Avg_Utilization_Ratio</th>\n",
       "      <th>Naive_Bayes_Classifier_Attrition_Flag_Card_Category_Contacts_Count_12_mon_Dependent_count_Education_Level_Months_Inactive_12_mon_1</th>\n",
       "      <th>Naive_Bayes_Classifier_Attrition_Flag_Card_Category_Contacts_Count_12_mon_Dependent_count_Education_Level_Months_Inactive_12_mon_2</th>\n",
       "    </tr>\n",
       "  </thead>\n",
       "  <tbody>\n",
       "    <tr>\n",
       "      <th>0</th>\n",
       "      <td>768805383</td>\n",
       "      <td>Existing Customer</td>\n",
       "      <td>45</td>\n",
       "      <td>M</td>\n",
       "      <td>3</td>\n",
       "      <td>High School</td>\n",
       "      <td>Married</td>\n",
       "      <td>$60K - $80K</td>\n",
       "      <td>Blue</td>\n",
       "      <td>39</td>\n",
       "      <td>...</td>\n",
       "      <td>12691.0</td>\n",
       "      <td>777</td>\n",
       "      <td>11914.0</td>\n",
       "      <td>1.335</td>\n",
       "      <td>1144</td>\n",
       "      <td>42</td>\n",
       "      <td>1.625</td>\n",
       "      <td>0.061</td>\n",
       "      <td>0.000093</td>\n",
       "      <td>0.99991</td>\n",
       "    </tr>\n",
       "    <tr>\n",
       "      <th>1</th>\n",
       "      <td>818770008</td>\n",
       "      <td>Existing Customer</td>\n",
       "      <td>49</td>\n",
       "      <td>F</td>\n",
       "      <td>5</td>\n",
       "      <td>Graduate</td>\n",
       "      <td>Single</td>\n",
       "      <td>Less than $40K</td>\n",
       "      <td>Blue</td>\n",
       "      <td>44</td>\n",
       "      <td>...</td>\n",
       "      <td>8256.0</td>\n",
       "      <td>864</td>\n",
       "      <td>7392.0</td>\n",
       "      <td>1.541</td>\n",
       "      <td>1291</td>\n",
       "      <td>33</td>\n",
       "      <td>3.714</td>\n",
       "      <td>0.105</td>\n",
       "      <td>0.000057</td>\n",
       "      <td>0.99994</td>\n",
       "    </tr>\n",
       "    <tr>\n",
       "      <th>2</th>\n",
       "      <td>713982108</td>\n",
       "      <td>Existing Customer</td>\n",
       "      <td>51</td>\n",
       "      <td>M</td>\n",
       "      <td>3</td>\n",
       "      <td>Graduate</td>\n",
       "      <td>Married</td>\n",
       "      <td>$80K - $120K</td>\n",
       "      <td>Blue</td>\n",
       "      <td>36</td>\n",
       "      <td>...</td>\n",
       "      <td>3418.0</td>\n",
       "      <td>0</td>\n",
       "      <td>3418.0</td>\n",
       "      <td>2.594</td>\n",
       "      <td>1887</td>\n",
       "      <td>20</td>\n",
       "      <td>2.333</td>\n",
       "      <td>0.000</td>\n",
       "      <td>0.000021</td>\n",
       "      <td>0.99998</td>\n",
       "    </tr>\n",
       "    <tr>\n",
       "      <th>3</th>\n",
       "      <td>769911858</td>\n",
       "      <td>Existing Customer</td>\n",
       "      <td>40</td>\n",
       "      <td>F</td>\n",
       "      <td>4</td>\n",
       "      <td>High School</td>\n",
       "      <td>Unknown</td>\n",
       "      <td>Less than $40K</td>\n",
       "      <td>Blue</td>\n",
       "      <td>34</td>\n",
       "      <td>...</td>\n",
       "      <td>3313.0</td>\n",
       "      <td>2517</td>\n",
       "      <td>796.0</td>\n",
       "      <td>1.405</td>\n",
       "      <td>1171</td>\n",
       "      <td>20</td>\n",
       "      <td>2.333</td>\n",
       "      <td>0.760</td>\n",
       "      <td>0.000134</td>\n",
       "      <td>0.99987</td>\n",
       "    </tr>\n",
       "    <tr>\n",
       "      <th>4</th>\n",
       "      <td>709106358</td>\n",
       "      <td>Existing Customer</td>\n",
       "      <td>40</td>\n",
       "      <td>M</td>\n",
       "      <td>3</td>\n",
       "      <td>Uneducated</td>\n",
       "      <td>Married</td>\n",
       "      <td>$60K - $80K</td>\n",
       "      <td>Blue</td>\n",
       "      <td>21</td>\n",
       "      <td>...</td>\n",
       "      <td>4716.0</td>\n",
       "      <td>0</td>\n",
       "      <td>4716.0</td>\n",
       "      <td>2.175</td>\n",
       "      <td>816</td>\n",
       "      <td>28</td>\n",
       "      <td>2.500</td>\n",
       "      <td>0.000</td>\n",
       "      <td>0.000022</td>\n",
       "      <td>0.99998</td>\n",
       "    </tr>\n",
       "  </tbody>\n",
       "</table>\n",
       "<p>5 rows × 23 columns</p>\n",
       "</div>"
      ],
      "text/plain": [
       "   CLIENTNUM     Attrition_Flag  Customer_Age Gender  Dependent_count  \\\n",
       "0  768805383  Existing Customer            45      M                3   \n",
       "1  818770008  Existing Customer            49      F                5   \n",
       "2  713982108  Existing Customer            51      M                3   \n",
       "3  769911858  Existing Customer            40      F                4   \n",
       "4  709106358  Existing Customer            40      M                3   \n",
       "\n",
       "  Education_Level Marital_Status Income_Category Card_Category  \\\n",
       "0     High School        Married     $60K - $80K          Blue   \n",
       "1        Graduate         Single  Less than $40K          Blue   \n",
       "2        Graduate        Married    $80K - $120K          Blue   \n",
       "3     High School        Unknown  Less than $40K          Blue   \n",
       "4      Uneducated        Married     $60K - $80K          Blue   \n",
       "\n",
       "   Months_on_book  ...  Credit_Limit  Total_Revolving_Bal  Avg_Open_To_Buy  \\\n",
       "0              39  ...       12691.0                  777          11914.0   \n",
       "1              44  ...        8256.0                  864           7392.0   \n",
       "2              36  ...        3418.0                    0           3418.0   \n",
       "3              34  ...        3313.0                 2517            796.0   \n",
       "4              21  ...        4716.0                    0           4716.0   \n",
       "\n",
       "   Total_Amt_Chng_Q4_Q1  Total_Trans_Amt  Total_Trans_Ct  Total_Ct_Chng_Q4_Q1  \\\n",
       "0                 1.335             1144              42                1.625   \n",
       "1                 1.541             1291              33                3.714   \n",
       "2                 2.594             1887              20                2.333   \n",
       "3                 1.405             1171              20                2.333   \n",
       "4                 2.175              816              28                2.500   \n",
       "\n",
       "   Avg_Utilization_Ratio  \\\n",
       "0                  0.061   \n",
       "1                  0.105   \n",
       "2                  0.000   \n",
       "3                  0.760   \n",
       "4                  0.000   \n",
       "\n",
       "   Naive_Bayes_Classifier_Attrition_Flag_Card_Category_Contacts_Count_12_mon_Dependent_count_Education_Level_Months_Inactive_12_mon_1  \\\n",
       "0                                           0.000093                                                                                    \n",
       "1                                           0.000057                                                                                    \n",
       "2                                           0.000021                                                                                    \n",
       "3                                           0.000134                                                                                    \n",
       "4                                           0.000022                                                                                    \n",
       "\n",
       "   Naive_Bayes_Classifier_Attrition_Flag_Card_Category_Contacts_Count_12_mon_Dependent_count_Education_Level_Months_Inactive_12_mon_2  \n",
       "0                                            0.99991                                                                                   \n",
       "1                                            0.99994                                                                                   \n",
       "2                                            0.99998                                                                                   \n",
       "3                                            0.99987                                                                                   \n",
       "4                                            0.99998                                                                                   \n",
       "\n",
       "[5 rows x 23 columns]"
      ]
     },
     "execution_count": 14,
     "metadata": {},
     "output_type": "execute_result"
    }
   ],
   "source": [
    "df.head()"
   ]
  },
  {
   "cell_type": "code",
   "execution_count": 15,
   "id": "88c14f19",
   "metadata": {},
   "outputs": [
    {
     "data": {
      "text/plain": [
       "<AxesSubplot:>"
      ]
     },
     "execution_count": 15,
     "metadata": {},
     "output_type": "execute_result"
    },
    {
     "data": {
      "image/png": "[encoded data removed]",
      "text/plain": [
       "<Figure size 432x288 with 1 Axes>"
      ]
     },
     "metadata": {
      "needs_background": "light"
     },
     "output_type": "display_data"
    }
   ],
   "source": [
    "y_test = df['Attrition_Flag']\n",
    "y_test.hist()"
   ]
  },
  {
   "cell_type": "markdown",
   "id": "0e418321",
   "metadata": {},
   "source": [
    "- Here we noticed that the data is imbalanced"
   ]
  },
  {
   "cell_type": "code",
   "execution_count": 16,
   "id": "433515a9",
   "metadata": {},
   "outputs": [],
   "source": [
    "#we dropped these columns because it has unnecessary values, and it just takes space\n",
    "drop_columns = ['CLIENTNUM',\n",
    "                'Naive_Bayes_Classifier_Attrition_Flag_Card_Category_Contacts_Count_12_mon_Dependent_count_Education_Level_Months_Inactive_12_mon_1',\n",
    "                'Naive_Bayes_Classifier_Attrition_Flag_Card_Category_Contacts_Count_12_mon_Dependent_count_Education_Level_Months_Inactive_12_mon_2']\n",
    "df = df.drop(drop_columns,errors='ignore',axis=1)"
   ]
  },
  {
   "cell_type": "code",
   "execution_count": 17,
   "id": "7b1aa502",
   "metadata": {},
   "outputs": [
    {
     "name": "stdout",
     "output_type": "stream",
     "text": [
      "<class 'pandas.core.frame.DataFrame'>\n",
      "RangeIndex: 10127 entries, 0 to 10126\n",
      "Data columns (total 20 columns):\n",
      " #   Column                    Non-Null Count  Dtype  \n",
      "---  ------                    --------------  -----  \n",
      " 0   Attrition_Flag            10127 non-null  object \n",
      " 1   Customer_Age              10127 non-null  int64  \n",
      " 2   Gender                    10127 non-null  object \n",
      " 3   Dependent_count           10127 non-null  int64  \n",
      " 4   Education_Level           10127 non-null  object \n",
      " 5   Marital_Status            10127 non-null  object \n",
      " 6   Income_Category           10127 non-null  object \n",
      " 7   Card_Category             10127 non-null  object \n",
      " 8   Months_on_book            10127 non-null  int64  \n",
      " 9   Total_Relationship_Count  10127 non-null  int64  \n",
      " 10  Months_Inactive_12_mon    10127 non-null  int64  \n",
      " 11  Contacts_Count_12_mon     10127 non-null  int64  \n",
      " 12  Credit_Limit              10127 non-null  float64\n",
      " 13  Total_Revolving_Bal       10127 non-null  int64  \n",
      " 14  Avg_Open_To_Buy           10127 non-null  float64\n",
      " 15  Total_Amt_Chng_Q4_Q1      10127 non-null  float64\n",
      " 16  Total_Trans_Amt           10127 non-null  int64  \n",
      " 17  Total_Trans_Ct            10127 non-null  int64  \n",
      " 18  Total_Ct_Chng_Q4_Q1       10127 non-null  float64\n",
      " 19  Avg_Utilization_Ratio     10127 non-null  float64\n",
      "dtypes: float64(5), int64(9), object(6)\n",
      "memory usage: 1.5+ MB\n"
     ]
    }
   ],
   "source": [
    "df.info()"
   ]
  },
  {
   "cell_type": "code",
   "execution_count": 18,
   "id": "9e503f92",
   "metadata": {},
   "outputs": [
    {
     "data": {
      "text/html": [
       "<div>\n",
       "<style scoped>\n",
       "    .dataframe tbody tr th:only-of-type {\n",
       "        vertical-align: middle;\n",
       "    }\n",
       "\n",
       "    .dataframe tbody tr th {\n",
       "        vertical-align: top;\n",
       "    }\n",
       "\n",
       "    .dataframe thead th {\n",
       "        text-align: right;\n",
       "    }\n",
       "</style>\n",
       "<table border=\"1\" class=\"dataframe\">\n",
       "  <thead>\n",
       "    <tr style=\"text-align: right;\">\n",
       "      <th></th>\n",
       "      <th>Attrition_Flag</th>\n",
       "      <th>Customer_Age</th>\n",
       "      <th>Gender</th>\n",
       "      <th>Dependent_count</th>\n",
       "      <th>Education_Level</th>\n",
       "      <th>Marital_Status</th>\n",
       "      <th>Income_Category</th>\n",
       "      <th>Card_Category</th>\n",
       "      <th>Months_on_book</th>\n",
       "      <th>Total_Relationship_Count</th>\n",
       "      <th>Months_Inactive_12_mon</th>\n",
       "      <th>Contacts_Count_12_mon</th>\n",
       "      <th>Credit_Limit</th>\n",
       "      <th>Total_Revolving_Bal</th>\n",
       "      <th>Avg_Open_To_Buy</th>\n",
       "      <th>Total_Amt_Chng_Q4_Q1</th>\n",
       "      <th>Total_Trans_Amt</th>\n",
       "      <th>Total_Trans_Ct</th>\n",
       "      <th>Total_Ct_Chng_Q4_Q1</th>\n",
       "      <th>Avg_Utilization_Ratio</th>\n",
       "    </tr>\n",
       "  </thead>\n",
       "  <tbody>\n",
       "    <tr>\n",
       "      <th>0</th>\n",
       "      <td>Existing Customer</td>\n",
       "      <td>45</td>\n",
       "      <td>M</td>\n",
       "      <td>3</td>\n",
       "      <td>High School</td>\n",
       "      <td>Married</td>\n",
       "      <td>$60K - $80K</td>\n",
       "      <td>Blue</td>\n",
       "      <td>39</td>\n",
       "      <td>5</td>\n",
       "      <td>1</td>\n",
       "      <td>3</td>\n",
       "      <td>12691.0</td>\n",
       "      <td>777</td>\n",
       "      <td>11914.0</td>\n",
       "      <td>1.335</td>\n",
       "      <td>1144</td>\n",
       "      <td>42</td>\n",
       "      <td>1.625</td>\n",
       "      <td>0.061</td>\n",
       "    </tr>\n",
       "    <tr>\n",
       "      <th>1</th>\n",
       "      <td>Existing Customer</td>\n",
       "      <td>49</td>\n",
       "      <td>F</td>\n",
       "      <td>5</td>\n",
       "      <td>Graduate</td>\n",
       "      <td>Single</td>\n",
       "      <td>Less than $40K</td>\n",
       "      <td>Blue</td>\n",
       "      <td>44</td>\n",
       "      <td>6</td>\n",
       "      <td>1</td>\n",
       "      <td>2</td>\n",
       "      <td>8256.0</td>\n",
       "      <td>864</td>\n",
       "      <td>7392.0</td>\n",
       "      <td>1.541</td>\n",
       "      <td>1291</td>\n",
       "      <td>33</td>\n",
       "      <td>3.714</td>\n",
       "      <td>0.105</td>\n",
       "    </tr>\n",
       "    <tr>\n",
       "      <th>2</th>\n",
       "      <td>Existing Customer</td>\n",
       "      <td>51</td>\n",
       "      <td>M</td>\n",
       "      <td>3</td>\n",
       "      <td>Graduate</td>\n",
       "      <td>Married</td>\n",
       "      <td>$80K - $120K</td>\n",
       "      <td>Blue</td>\n",
       "      <td>36</td>\n",
       "      <td>4</td>\n",
       "      <td>1</td>\n",
       "      <td>0</td>\n",
       "      <td>3418.0</td>\n",
       "      <td>0</td>\n",
       "      <td>3418.0</td>\n",
       "      <td>2.594</td>\n",
       "      <td>1887</td>\n",
       "      <td>20</td>\n",
       "      <td>2.333</td>\n",
       "      <td>0.000</td>\n",
       "    </tr>\n",
       "    <tr>\n",
       "      <th>3</th>\n",
       "      <td>Existing Customer</td>\n",
       "      <td>40</td>\n",
       "      <td>F</td>\n",
       "      <td>4</td>\n",
       "      <td>High School</td>\n",
       "      <td>Unknown</td>\n",
       "      <td>Less than $40K</td>\n",
       "      <td>Blue</td>\n",
       "      <td>34</td>\n",
       "      <td>3</td>\n",
       "      <td>4</td>\n",
       "      <td>1</td>\n",
       "      <td>3313.0</td>\n",
       "      <td>2517</td>\n",
       "      <td>796.0</td>\n",
       "      <td>1.405</td>\n",
       "      <td>1171</td>\n",
       "      <td>20</td>\n",
       "      <td>2.333</td>\n",
       "      <td>0.760</td>\n",
       "    </tr>\n",
       "    <tr>\n",
       "      <th>4</th>\n",
       "      <td>Existing Customer</td>\n",
       "      <td>40</td>\n",
       "      <td>M</td>\n",
       "      <td>3</td>\n",
       "      <td>Uneducated</td>\n",
       "      <td>Married</td>\n",
       "      <td>$60K - $80K</td>\n",
       "      <td>Blue</td>\n",
       "      <td>21</td>\n",
       "      <td>5</td>\n",
       "      <td>1</td>\n",
       "      <td>0</td>\n",
       "      <td>4716.0</td>\n",
       "      <td>0</td>\n",
       "      <td>4716.0</td>\n",
       "      <td>2.175</td>\n",
       "      <td>816</td>\n",
       "      <td>28</td>\n",
       "      <td>2.500</td>\n",
       "      <td>0.000</td>\n",
       "    </tr>\n",
       "  </tbody>\n",
       "</table>\n",
       "</div>"
      ],
      "text/plain": [
       "      Attrition_Flag  Customer_Age Gender  Dependent_count Education_Level  \\\n",
       "0  Existing Customer            45      M                3     High School   \n",
       "1  Existing Customer            49      F                5        Graduate   \n",
       "2  Existing Customer            51      M                3        Graduate   \n",
       "3  Existing Customer            40      F                4     High School   \n",
       "4  Existing Customer            40      M                3      Uneducated   \n",
       "\n",
       "  Marital_Status Income_Category Card_Category  Months_on_book  \\\n",
       "0        Married     $60K - $80K          Blue              39   \n",
       "1         Single  Less than $40K          Blue              44   \n",
       "2        Married    $80K - $120K          Blue              36   \n",
       "3        Unknown  Less than $40K          Blue              34   \n",
       "4        Married     $60K - $80K          Blue              21   \n",
       "\n",
       "   Total_Relationship_Count  Months_Inactive_12_mon  Contacts_Count_12_mon  \\\n",
       "0                         5                       1                      3   \n",
       "1                         6                       1                      2   \n",
       "2                         4                       1                      0   \n",
       "3                         3                       4                      1   \n",
       "4                         5                       1                      0   \n",
       "\n",
       "   Credit_Limit  Total_Revolving_Bal  Avg_Open_To_Buy  Total_Amt_Chng_Q4_Q1  \\\n",
       "0       12691.0                  777          11914.0                 1.335   \n",
       "1        8256.0                  864           7392.0                 1.541   \n",
       "2        3418.0                    0           3418.0                 2.594   \n",
       "3        3313.0                 2517            796.0                 1.405   \n",
       "4        4716.0                    0           4716.0                 2.175   \n",
       "\n",
       "   Total_Trans_Amt  Total_Trans_Ct  Total_Ct_Chng_Q4_Q1  Avg_Utilization_Ratio  \n",
       "0             1144              42                1.625                  0.061  \n",
       "1             1291              33                3.714                  0.105  \n",
       "2             1887              20                2.333                  0.000  \n",
       "3             1171              20                2.333                  0.760  \n",
       "4              816              28                2.500                  0.000  "
      ]
     },
     "execution_count": 18,
     "metadata": {},
     "output_type": "execute_result"
    }
   ],
   "source": [
    "df.head()"
   ]
  },
  {
   "cell_type": "code",
   "execution_count": 19,
   "id": "1bba8cc0",
   "metadata": {},
   "outputs": [
    {
     "data": {
      "text/plain": [
       "(10127, 20)"
      ]
     },
     "execution_count": 19,
     "metadata": {},
     "output_type": "execute_result"
    }
   ],
   "source": [
    "df.shape"
   ]
  },
  {
   "cell_type": "code",
   "execution_count": 20,
   "id": "39395f81",
   "metadata": {},
   "outputs": [
    {
     "data": {
      "text/html": [
       "<div>\n",
       "<style scoped>\n",
       "    .dataframe tbody tr th:only-of-type {\n",
       "        vertical-align: middle;\n",
       "    }\n",
       "\n",
       "    .dataframe tbody tr th {\n",
       "        vertical-align: top;\n",
       "    }\n",
       "\n",
       "    .dataframe thead th {\n",
       "        text-align: right;\n",
       "    }\n",
       "</style>\n",
       "<table border=\"1\" class=\"dataframe\">\n",
       "  <thead>\n",
       "    <tr style=\"text-align: right;\">\n",
       "      <th></th>\n",
       "      <th>Customer_Age</th>\n",
       "      <th>Dependent_count</th>\n",
       "      <th>Months_on_book</th>\n",
       "      <th>Total_Relationship_Count</th>\n",
       "      <th>Months_Inactive_12_mon</th>\n",
       "      <th>Contacts_Count_12_mon</th>\n",
       "      <th>Credit_Limit</th>\n",
       "      <th>Total_Revolving_Bal</th>\n",
       "      <th>Avg_Open_To_Buy</th>\n",
       "      <th>Total_Amt_Chng_Q4_Q1</th>\n",
       "      <th>Total_Trans_Amt</th>\n",
       "      <th>Total_Trans_Ct</th>\n",
       "      <th>Total_Ct_Chng_Q4_Q1</th>\n",
       "      <th>Avg_Utilization_Ratio</th>\n",
       "    </tr>\n",
       "  </thead>\n",
       "  <tbody>\n",
       "    <tr>\n",
       "      <th>count</th>\n",
       "      <td>10127.000000</td>\n",
       "      <td>10127.000000</td>\n",
       "      <td>10127.000000</td>\n",
       "      <td>10127.000000</td>\n",
       "      <td>10127.000000</td>\n",
       "      <td>10127.000000</td>\n",
       "      <td>10127.000000</td>\n",
       "      <td>10127.000000</td>\n",
       "      <td>10127.000000</td>\n",
       "      <td>10127.000000</td>\n",
       "      <td>10127.000000</td>\n",
       "      <td>10127.000000</td>\n",
       "      <td>10127.000000</td>\n",
       "      <td>10127.000000</td>\n",
       "    </tr>\n",
       "    <tr>\n",
       "      <th>mean</th>\n",
       "      <td>46.325960</td>\n",
       "      <td>2.346203</td>\n",
       "      <td>35.928409</td>\n",
       "      <td>3.812580</td>\n",
       "      <td>2.341167</td>\n",
       "      <td>2.455317</td>\n",
       "      <td>8631.953698</td>\n",
       "      <td>1162.814061</td>\n",
       "      <td>7469.139637</td>\n",
       "      <td>0.759941</td>\n",
       "      <td>4404.086304</td>\n",
       "      <td>64.858695</td>\n",
       "      <td>0.712222</td>\n",
       "      <td>0.274894</td>\n",
       "    </tr>\n",
       "    <tr>\n",
       "      <th>std</th>\n",
       "      <td>8.016814</td>\n",
       "      <td>1.298908</td>\n",
       "      <td>7.986416</td>\n",
       "      <td>1.554408</td>\n",
       "      <td>1.010622</td>\n",
       "      <td>1.106225</td>\n",
       "      <td>9088.776650</td>\n",
       "      <td>814.987335</td>\n",
       "      <td>9090.685324</td>\n",
       "      <td>0.219207</td>\n",
       "      <td>3397.129254</td>\n",
       "      <td>23.472570</td>\n",
       "      <td>0.238086</td>\n",
       "      <td>0.275691</td>\n",
       "    </tr>\n",
       "    <tr>\n",
       "      <th>min</th>\n",
       "      <td>26.000000</td>\n",
       "      <td>0.000000</td>\n",
       "      <td>13.000000</td>\n",
       "      <td>1.000000</td>\n",
       "      <td>0.000000</td>\n",
       "      <td>0.000000</td>\n",
       "      <td>1438.300000</td>\n",
       "      <td>0.000000</td>\n",
       "      <td>3.000000</td>\n",
       "      <td>0.000000</td>\n",
       "      <td>510.000000</td>\n",
       "      <td>10.000000</td>\n",
       "      <td>0.000000</td>\n",
       "      <td>0.000000</td>\n",
       "    </tr>\n",
       "    <tr>\n",
       "      <th>25%</th>\n",
       "      <td>41.000000</td>\n",
       "      <td>1.000000</td>\n",
       "      <td>31.000000</td>\n",
       "      <td>3.000000</td>\n",
       "      <td>2.000000</td>\n",
       "      <td>2.000000</td>\n",
       "      <td>2555.000000</td>\n",
       "      <td>359.000000</td>\n",
       "      <td>1324.500000</td>\n",
       "      <td>0.631000</td>\n",
       "      <td>2155.500000</td>\n",
       "      <td>45.000000</td>\n",
       "      <td>0.582000</td>\n",
       "      <td>0.023000</td>\n",
       "    </tr>\n",
       "    <tr>\n",
       "      <th>50%</th>\n",
       "      <td>46.000000</td>\n",
       "      <td>2.000000</td>\n",
       "      <td>36.000000</td>\n",
       "      <td>4.000000</td>\n",
       "      <td>2.000000</td>\n",
       "      <td>2.000000</td>\n",
       "      <td>4549.000000</td>\n",
       "      <td>1276.000000</td>\n",
       "      <td>3474.000000</td>\n",
       "      <td>0.736000</td>\n",
       "      <td>3899.000000</td>\n",
       "      <td>67.000000</td>\n",
       "      <td>0.702000</td>\n",
       "      <td>0.176000</td>\n",
       "    </tr>\n",
       "    <tr>\n",
       "      <th>75%</th>\n",
       "      <td>52.000000</td>\n",
       "      <td>3.000000</td>\n",
       "      <td>40.000000</td>\n",
       "      <td>5.000000</td>\n",
       "      <td>3.000000</td>\n",
       "      <td>3.000000</td>\n",
       "      <td>11067.500000</td>\n",
       "      <td>1784.000000</td>\n",
       "      <td>9859.000000</td>\n",
       "      <td>0.859000</td>\n",
       "      <td>4741.000000</td>\n",
       "      <td>81.000000</td>\n",
       "      <td>0.818000</td>\n",
       "      <td>0.503000</td>\n",
       "    </tr>\n",
       "    <tr>\n",
       "      <th>max</th>\n",
       "      <td>73.000000</td>\n",
       "      <td>5.000000</td>\n",
       "      <td>56.000000</td>\n",
       "      <td>6.000000</td>\n",
       "      <td>6.000000</td>\n",
       "      <td>6.000000</td>\n",
       "      <td>34516.000000</td>\n",
       "      <td>2517.000000</td>\n",
       "      <td>34516.000000</td>\n",
       "      <td>3.397000</td>\n",
       "      <td>18484.000000</td>\n",
       "      <td>139.000000</td>\n",
       "      <td>3.714000</td>\n",
       "      <td>0.999000</td>\n",
       "    </tr>\n",
       "  </tbody>\n",
       "</table>\n",
       "</div>"
      ],
      "text/plain": [
       "       Customer_Age  Dependent_count  Months_on_book  \\\n",
       "count  10127.000000     10127.000000    10127.000000   \n",
       "mean      46.325960         2.346203       35.928409   \n",
       "std        8.016814         1.298908        7.986416   \n",
       "min       26.000000         0.000000       13.000000   \n",
       "25%       41.000000         1.000000       31.000000   \n",
       "50%       46.000000         2.000000       36.000000   \n",
       "75%       52.000000         3.000000       40.000000   \n",
       "max       73.000000         5.000000       56.000000   \n",
       "\n",
       "       Total_Relationship_Count  Months_Inactive_12_mon  \\\n",
       "count              10127.000000            10127.000000   \n",
       "mean                   3.812580                2.341167   \n",
       "std                    1.554408                1.010622   \n",
       "min                    1.000000                0.000000   \n",
       "25%                    3.000000                2.000000   \n",
       "50%                    4.000000                2.000000   \n",
       "75%                    5.000000                3.000000   \n",
       "max                    6.000000                6.000000   \n",
       "\n",
       "       Contacts_Count_12_mon  Credit_Limit  Total_Revolving_Bal  \\\n",
       "count           10127.000000  10127.000000         10127.000000   \n",
       "mean                2.455317   8631.953698          1162.814061   \n",
       "std                 1.106225   9088.776650           814.987335   \n",
       "min                 0.000000   1438.300000             0.000000   \n",
       "25%                 2.000000   2555.000000           359.000000   \n",
       "50%                 2.000000   4549.000000          1276.000000   \n",
       "75%                 3.000000  11067.500000          1784.000000   \n",
       "max                 6.000000  34516.000000          2517.000000   \n",
       "\n",
       "       Avg_Open_To_Buy  Total_Amt_Chng_Q4_Q1  Total_Trans_Amt  Total_Trans_Ct  \\\n",
       "count     10127.000000          10127.000000     10127.000000    10127.000000   \n",
       "mean       7469.139637              0.759941      4404.086304       64.858695   \n",
       "std        9090.685324              0.219207      3397.129254       23.472570   \n",
       "min           3.000000              0.000000       510.000000       10.000000   \n",
       "25%        1324.500000              0.631000      2155.500000       45.000000   \n",
       "50%        3474.000000              0.736000      3899.000000       67.000000   \n",
       "75%        9859.000000              0.859000      4741.000000       81.000000   \n",
       "max       34516.000000              3.397000     18484.000000      139.000000   \n",
       "\n",
       "       Total_Ct_Chng_Q4_Q1  Avg_Utilization_Ratio  \n",
       "count         10127.000000           10127.000000  \n",
       "mean              0.712222               0.274894  \n",
       "std               0.238086               0.275691  \n",
       "min               0.000000               0.000000  \n",
       "25%               0.582000               0.023000  \n",
       "50%               0.702000               0.176000  \n",
       "75%               0.818000               0.503000  \n",
       "max               3.714000               0.999000  "
      ]
     },
     "execution_count": 20,
     "metadata": {},
     "output_type": "execute_result"
    }
   ],
   "source": [
    "df.describe()"
   ]
  },
  {
   "cell_type": "code",
   "execution_count": 21,
   "id": "48b02835",
   "metadata": {},
   "outputs": [
    {
     "data": {
      "text/plain": [
       "Attrition_Flag              0\n",
       "Customer_Age                0\n",
       "Gender                      0\n",
       "Dependent_count             0\n",
       "Education_Level             0\n",
       "Marital_Status              0\n",
       "Income_Category             0\n",
       "Card_Category               0\n",
       "Months_on_book              0\n",
       "Total_Relationship_Count    0\n",
       "Months_Inactive_12_mon      0\n",
       "Contacts_Count_12_mon       0\n",
       "Credit_Limit                0\n",
       "Total_Revolving_Bal         0\n",
       "Avg_Open_To_Buy             0\n",
       "Total_Amt_Chng_Q4_Q1        0\n",
       "Total_Trans_Amt             0\n",
       "Total_Trans_Ct              0\n",
       "Total_Ct_Chng_Q4_Q1         0\n",
       "Avg_Utilization_Ratio       0\n",
       "dtype: int64"
      ]
     },
     "execution_count": 21,
     "metadata": {},
     "output_type": "execute_result"
    }
   ],
   "source": [
    "df.isna().sum()"
   ]
  },
  {
   "cell_type": "code",
   "execution_count": 22,
   "id": "2cfb9a3a",
   "metadata": {},
   "outputs": [],
   "source": [
    "def plot_outliers(df,col):\n",
    "    plt.title(col)\n",
    "    ax = sns.boxplot(data=df, x=col)\n",
    "    ax.set(xlabel='')\n",
    "    plt.show()\n",
    "\n",
    "def plot_hist(df,col):\n",
    "    plt.hist(x=df[col],bins=40,color='#D11239')\n",
    "    plt.show();"
   ]
  },
  {
   "cell_type": "code",
   "execution_count": 23,
   "id": "79d6282f",
   "metadata": {},
   "outputs": [
    {
     "data": {
      "image/png": "[encoded data removed]",
      "text/plain": [
       "<Figure size 432x288 with 1 Axes>"
      ]
     },
     "metadata": {
      "needs_background": "light"
     },
     "output_type": "display_data"
    },
    {
     "data": {
      "image/png": "[encoded data removed]",
      "text/plain": [
       "<Figure size 432x288 with 1 Axes>"
      ]
     },
     "metadata": {
      "needs_background": "light"
     },
     "output_type": "display_data"
    },
    {
     "data": {
      "image/png": "[encoded data removed]",
      "text/plain": [
       "<Figure size 432x288 with 1 Axes>"
      ]
     },
     "metadata": {
      "needs_background": "light"
     },
     "output_type": "display_data"
    },
    {
     "data": {
      "image/png": "[encoded data removed]",
      "text/plain": [
       "<Figure size 432x288 with 1 Axes>"
      ]
     },
     "metadata": {
      "needs_background": "light"
     },
     "output_type": "display_data"
    },
    {
     "data": {
      "image/png": "[encoded data removed]",
      "text/plain": [
       "<Figure size 432x288 with 1 Axes>"
      ]
     },
     "metadata": {
      "needs_background": "light"
     },
     "output_type": "display_data"
    },
    {
     "data": {
      "image/png": "[encoded data removed]",
      "text/plain": [
       "<Figure size 432x288 with 1 Axes>"
      ]
     },
     "metadata": {
      "needs_background": "light"
     },
     "output_type": "display_data"
    },
    {
     "data": {
      "image/png": "[encoded data removed]",
      "text/plain": [
       "<Figure size 432x288 with 1 Axes>"
      ]
     },
     "metadata": {
      "needs_background": "light"
     },
     "output_type": "display_data"
    },
    {
     "data": {
      "image/png": "[encoded data removed]",
      "text/plain": [
       "<Figure size 432x288 with 1 Axes>"
      ]
     },
     "metadata": {
      "needs_background": "light"
     },
     "output_type": "display_data"
    },
    {
     "data": {
      "image/png": "[encoded data removed]",
      "text/plain": [
       "<Figure size 432x288 with 1 Axes>"
      ]
     },
     "metadata": {
      "needs_background": "light"
     },
     "output_type": "display_data"
    },
    {
     "data": {
      "image/png": "[encoded data removed]",
      "text/plain": [
       "<Figure size 432x288 with 1 Axes>"
      ]
     },
     "metadata": {
      "needs_background": "light"
     },
     "output_type": "display_data"
    }
   ],
   "source": [
    "for col in df.columns:\n",
    "    if df[col].dtype == 'float64':\n",
    "        plot_outliers(df,col)\n",
    "        plot_hist(df,col)"
   ]
  },
  {
   "cell_type": "code",
   "execution_count": 24,
   "id": "358c3f6e",
   "metadata": {
    "scrolled": true
   },
   "outputs": [
    {
     "data": {
      "image/png": "[encoded data removed]",
      "text/plain": [
       "<Figure size 432x288 with 1 Axes>"
      ]
     },
     "metadata": {
      "needs_background": "light"
     },
     "output_type": "display_data"
    },
    {
     "data": {
      "image/png": "[encoded data removed]",
      "text/plain": [
       "<Figure size 432x288 with 1 Axes>"
      ]
     },
     "metadata": {
      "needs_background": "light"
     },
     "output_type": "display_data"
    },
    {
     "data": {
      "image/png": "[encoded data removed]",
      "text/plain": [
       "<Figure size 432x288 with 1 Axes>"
      ]
     },
     "metadata": {
      "needs_background": "light"
     },
     "output_type": "display_data"
    },
    {
     "data": {
      "image/png": "[encoded data removed]",
      "text/plain": [
       "<Figure size 432x288 with 1 Axes>"
      ]
     },
     "metadata": {
      "needs_background": "light"
     },
     "output_type": "display_data"
    },
    {
     "data": {
      "image/png": "[encoded data removed]",
      "text/plain": [
       "<Figure size 432x288 with 1 Axes>"
      ]
     },
     "metadata": {
      "needs_background": "light"
     },
     "output_type": "display_data"
    },
    {
     "data": {
      "image/png": "[encoded data removed]",
      "text/plain": [
       "<Figure size 432x288 with 1 Axes>"
      ]
     },
     "metadata": {
      "needs_background": "light"
     },
     "output_type": "display_data"
    },
    {
     "data": {
      "image/png": "[encoded data removed]",
      "text/plain": [
       "<Figure size 432x288 with 1 Axes>"
      ]
     },
     "metadata": {
      "needs_background": "light"
     },
     "output_type": "display_data"
    },
    {
     "data": {
      "image/png": "[encoded data removed]",
      "text/plain": [
       "<Figure size 432x288 with 1 Axes>"
      ]
     },
     "metadata": {
      "needs_background": "light"
     },
     "output_type": "display_data"
    },
    {
     "data": {
      "image/png": "[encoded data removed]",
      "text/plain": [
       "<Figure size 432x288 with 1 Axes>"
      ]
     },
     "metadata": {
      "needs_background": "light"
     },
     "output_type": "display_data"
    },
    {
     "data": {
      "image/png": "[encoded data removed]",
      "text/plain": [
       "<Figure size 432x288 with 1 Axes>"
      ]
     },
     "metadata": {
      "needs_background": "light"
     },
     "output_type": "display_data"
    },
    {
     "data": {
      "image/png": "[encoded data removed]",
      "text/plain": [
       "<Figure size 432x288 with 1 Axes>"
      ]
     },
     "metadata": {
      "needs_background": "light"
     },
     "output_type": "display_data"
    },
    {
     "data": {
      "image/png": "[encoded data removed]",
      "text/plain": [
       "<Figure size 432x288 with 1 Axes>"
      ]
     },
     "metadata": {
      "needs_background": "light"
     },
     "output_type": "display_data"
    },
    {
     "data": {
      "image/png": "[encoded data removed]",
      "text/plain": [
       "<Figure size 432x288 with 1 Axes>"
      ]
     },
     "metadata": {
      "needs_background": "light"
     },
     "output_type": "display_data"
    },
    {
     "data": {
      "image/png": "[encoded data removed]",
      "text/plain": [
       "<Figure size 432x288 with 1 Axes>"
      ]
     },
     "metadata": {
      "needs_background": "light"
     },
     "output_type": "display_data"
    },
    {
     "data": {
      "image/png": "[encoded data removed]",
      "text/plain": [
       "<Figure size 432x288 with 1 Axes>"
      ]
     },
     "metadata": {
      "needs_background": "light"
     },
     "output_type": "display_data"
    },
    {
     "data": {
      "image/png": "[encoded data removed]",
      "text/plain": [
       "<Figure size 432x288 with 1 Axes>"
      ]
     },
     "metadata": {
      "needs_background": "light"
     },
     "output_type": "display_data"
    },
    {
     "data": {
      "image/png": "[encoded data removed]",
      "text/plain": [
       "<Figure size 432x288 with 1 Axes>"
      ]
     },
     "metadata": {
      "needs_background": "light"
     },
     "output_type": "display_data"
    },
    {
     "data": {
      "image/png": "[encoded data removed]",
      "text/plain": [
       "<Figure size 432x288 with 1 Axes>"
      ]
     },
     "metadata": {
      "needs_background": "light"
     },
     "output_type": "display_data"
    }
   ],
   "source": [
    "for col in df.columns:\n",
    "    if df[col].dtype == 'int64':\n",
    "        plot_outliers(df,col)\n",
    "        plot_hist(df,col)"
   ]
  },
  {
   "cell_type": "code",
   "execution_count": 25,
   "id": "265111b8",
   "metadata": {},
   "outputs": [
    {
     "data": {
      "text/plain": [
       "array(['Existing Customer', 'Attrited Customer'], dtype=object)"
      ]
     },
     "execution_count": 25,
     "metadata": {},
     "output_type": "execute_result"
    }
   ],
   "source": [
    "df.Attrition_Flag.unique()"
   ]
  },
  {
   "cell_type": "code",
   "execution_count": 26,
   "id": "52667f6d",
   "metadata": {},
   "outputs": [
    {
     "data": {
      "text/html": [
       "<div>\n",
       "<style scoped>\n",
       "    .dataframe tbody tr th:only-of-type {\n",
       "        vertical-align: middle;\n",
       "    }\n",
       "\n",
       "    .dataframe tbody tr th {\n",
       "        vertical-align: top;\n",
       "    }\n",
       "\n",
       "    .dataframe thead th {\n",
       "        text-align: right;\n",
       "    }\n",
       "</style>\n",
       "<table border=\"1\" class=\"dataframe\">\n",
       "  <thead>\n",
       "    <tr style=\"text-align: right;\">\n",
       "      <th></th>\n",
       "      <th>Attrition_Flag</th>\n",
       "      <th>Customer_Age</th>\n",
       "      <th>Gender</th>\n",
       "      <th>Dependent_count</th>\n",
       "      <th>Education_Level</th>\n",
       "      <th>Marital_Status</th>\n",
       "      <th>Income_Category</th>\n",
       "      <th>Card_Category</th>\n",
       "      <th>Months_on_book</th>\n",
       "      <th>Total_Relationship_Count</th>\n",
       "      <th>Months_Inactive_12_mon</th>\n",
       "      <th>Contacts_Count_12_mon</th>\n",
       "      <th>Credit_Limit</th>\n",
       "      <th>Total_Revolving_Bal</th>\n",
       "      <th>Avg_Open_To_Buy</th>\n",
       "      <th>Total_Amt_Chng_Q4_Q1</th>\n",
       "      <th>Total_Trans_Amt</th>\n",
       "      <th>Total_Trans_Ct</th>\n",
       "      <th>Total_Ct_Chng_Q4_Q1</th>\n",
       "      <th>Avg_Utilization_Ratio</th>\n",
       "    </tr>\n",
       "  </thead>\n",
       "  <tbody>\n",
       "    <tr>\n",
       "      <th>0</th>\n",
       "      <td>Existing Customer</td>\n",
       "      <td>45</td>\n",
       "      <td>M</td>\n",
       "      <td>3</td>\n",
       "      <td>High School</td>\n",
       "      <td>Married</td>\n",
       "      <td>$60K - $80K</td>\n",
       "      <td>Blue</td>\n",
       "      <td>39</td>\n",
       "      <td>5</td>\n",
       "      <td>1</td>\n",
       "      <td>3</td>\n",
       "      <td>12691.0</td>\n",
       "      <td>777</td>\n",
       "      <td>11914.0</td>\n",
       "      <td>1.335</td>\n",
       "      <td>1144</td>\n",
       "      <td>42</td>\n",
       "      <td>1.625</td>\n",
       "      <td>0.061</td>\n",
       "    </tr>\n",
       "    <tr>\n",
       "      <th>1</th>\n",
       "      <td>Existing Customer</td>\n",
       "      <td>49</td>\n",
       "      <td>F</td>\n",
       "      <td>5</td>\n",
       "      <td>Graduate</td>\n",
       "      <td>Single</td>\n",
       "      <td>Less than $40K</td>\n",
       "      <td>Blue</td>\n",
       "      <td>44</td>\n",
       "      <td>6</td>\n",
       "      <td>1</td>\n",
       "      <td>2</td>\n",
       "      <td>8256.0</td>\n",
       "      <td>864</td>\n",
       "      <td>7392.0</td>\n",
       "      <td>1.541</td>\n",
       "      <td>1291</td>\n",
       "      <td>33</td>\n",
       "      <td>3.714</td>\n",
       "      <td>0.105</td>\n",
       "    </tr>\n",
       "    <tr>\n",
       "      <th>2</th>\n",
       "      <td>Existing Customer</td>\n",
       "      <td>51</td>\n",
       "      <td>M</td>\n",
       "      <td>3</td>\n",
       "      <td>Graduate</td>\n",
       "      <td>Married</td>\n",
       "      <td>$80K - $120K</td>\n",
       "      <td>Blue</td>\n",
       "      <td>36</td>\n",
       "      <td>4</td>\n",
       "      <td>1</td>\n",
       "      <td>0</td>\n",
       "      <td>3418.0</td>\n",
       "      <td>0</td>\n",
       "      <td>3418.0</td>\n",
       "      <td>2.594</td>\n",
       "      <td>1887</td>\n",
       "      <td>20</td>\n",
       "      <td>2.333</td>\n",
       "      <td>0.000</td>\n",
       "    </tr>\n",
       "    <tr>\n",
       "      <th>3</th>\n",
       "      <td>Existing Customer</td>\n",
       "      <td>40</td>\n",
       "      <td>F</td>\n",
       "      <td>4</td>\n",
       "      <td>High School</td>\n",
       "      <td>Unknown</td>\n",
       "      <td>Less than $40K</td>\n",
       "      <td>Blue</td>\n",
       "      <td>34</td>\n",
       "      <td>3</td>\n",
       "      <td>4</td>\n",
       "      <td>1</td>\n",
       "      <td>3313.0</td>\n",
       "      <td>2517</td>\n",
       "      <td>796.0</td>\n",
       "      <td>1.405</td>\n",
       "      <td>1171</td>\n",
       "      <td>20</td>\n",
       "      <td>2.333</td>\n",
       "      <td>0.760</td>\n",
       "    </tr>\n",
       "    <tr>\n",
       "      <th>4</th>\n",
       "      <td>Existing Customer</td>\n",
       "      <td>40</td>\n",
       "      <td>M</td>\n",
       "      <td>3</td>\n",
       "      <td>Uneducated</td>\n",
       "      <td>Married</td>\n",
       "      <td>$60K - $80K</td>\n",
       "      <td>Blue</td>\n",
       "      <td>21</td>\n",
       "      <td>5</td>\n",
       "      <td>1</td>\n",
       "      <td>0</td>\n",
       "      <td>4716.0</td>\n",
       "      <td>0</td>\n",
       "      <td>4716.0</td>\n",
       "      <td>2.175</td>\n",
       "      <td>816</td>\n",
       "      <td>28</td>\n",
       "      <td>2.500</td>\n",
       "      <td>0.000</td>\n",
       "    </tr>\n",
       "  </tbody>\n",
       "</table>\n",
       "</div>"
      ],
      "text/plain": [
       "      Attrition_Flag  Customer_Age Gender  Dependent_count Education_Level  \\\n",
       "0  Existing Customer            45      M                3     High School   \n",
       "1  Existing Customer            49      F                5        Graduate   \n",
       "2  Existing Customer            51      M                3        Graduate   \n",
       "3  Existing Customer            40      F                4     High School   \n",
       "4  Existing Customer            40      M                3      Uneducated   \n",
       "\n",
       "  Marital_Status Income_Category Card_Category  Months_on_book  \\\n",
       "0        Married     $60K - $80K          Blue              39   \n",
       "1         Single  Less than $40K          Blue              44   \n",
       "2        Married    $80K - $120K          Blue              36   \n",
       "3        Unknown  Less than $40K          Blue              34   \n",
       "4        Married     $60K - $80K          Blue              21   \n",
       "\n",
       "   Total_Relationship_Count  Months_Inactive_12_mon  Contacts_Count_12_mon  \\\n",
       "0                         5                       1                      3   \n",
       "1                         6                       1                      2   \n",
       "2                         4                       1                      0   \n",
       "3                         3                       4                      1   \n",
       "4                         5                       1                      0   \n",
       "\n",
       "   Credit_Limit  Total_Revolving_Bal  Avg_Open_To_Buy  Total_Amt_Chng_Q4_Q1  \\\n",
       "0       12691.0                  777          11914.0                 1.335   \n",
       "1        8256.0                  864           7392.0                 1.541   \n",
       "2        3418.0                    0           3418.0                 2.594   \n",
       "3        3313.0                 2517            796.0                 1.405   \n",
       "4        4716.0                    0           4716.0                 2.175   \n",
       "\n",
       "   Total_Trans_Amt  Total_Trans_Ct  Total_Ct_Chng_Q4_Q1  Avg_Utilization_Ratio  \n",
       "0             1144              42                1.625                  0.061  \n",
       "1             1291              33                3.714                  0.105  \n",
       "2             1887              20                2.333                  0.000  \n",
       "3             1171              20                2.333                  0.760  \n",
       "4              816              28                2.500                  0.000  "
      ]
     },
     "execution_count": 26,
     "metadata": {},
     "output_type": "execute_result"
    }
   ],
   "source": [
    "df.head()\n"
   ]
  },
  {
   "cell_type": "code",
   "execution_count": 27,
   "id": "79a46346",
   "metadata": {},
   "outputs": [],
   "source": [
    "### It is a function, which given two parameters, \n",
    "### to creates a pivot table and a bar chart to show their relationship \n",
    "\n",
    "def make_pivot (param1, param2):\n",
    "    df_slice = df[[param1, param2]]\n",
    "    slice_pivot = df_slice.pivot_table(index=[param1], columns=[param2],aggfunc=np.size, fill_value=0)\n",
    "    \n",
    "    p_chart = slice_pivot.plot.bar()\n",
    "    for p in p_chart.patches:\n",
    "        p_chart.annotate(str(p.get_height()), (p.get_x() * 1.05, p.get_height() * 1.01))\n",
    "    \n",
    "    return slice_pivot\n",
    "    return p_chart"
   ]
  },
  {
   "cell_type": "code",
   "execution_count": 28,
   "id": "fa834d14",
   "metadata": {},
   "outputs": [],
   "source": [
    "def show_values(axs, orient=\"v\", space=.01):\n",
    "    def _single(ax):\n",
    "        if orient == \"v\":\n",
    "            for p in ax.patches:\n",
    "                _x = p.get_x() + p.get_width() / 2\n",
    "                _y = p.get_y() + p.get_height() + (p.get_height()*0.01)\n",
    "                value = '{:.1f}'.format(p.get_height())\n",
    "                ax.text(_x, _y, value, ha=\"center\") \n",
    "        elif orient == \"h\":\n",
    "            for p in ax.patches:\n",
    "                _x = p.get_x() + p.get_width() + float(space)\n",
    "                _y = p.get_y() + p.get_height() - (p.get_height()*0.5)\n",
    "                value = '{:.1f}'.format(p.get_width())\n",
    "                ax.text(_x, _y, value, ha=\"left\")\n",
    "\n",
    "    if isinstance(axs, np.ndarray):\n",
    "        for idx, ax in np.ndenumerate(axs):\n",
    "            _single(ax)\n",
    "    else:\n",
    "        _single(axs)\n"
   ]
  },
  {
   "cell_type": "code",
   "execution_count": 29,
   "id": "81b0987e",
   "metadata": {
    "scrolled": true
   },
   "outputs": [
    {
     "data": {
      "text/html": [
       "<div>\n",
       "<style scoped>\n",
       "    .dataframe tbody tr th:only-of-type {\n",
       "        vertical-align: middle;\n",
       "    }\n",
       "\n",
       "    .dataframe tbody tr th {\n",
       "        vertical-align: top;\n",
       "    }\n",
       "\n",
       "    .dataframe thead th {\n",
       "        text-align: right;\n",
       "    }\n",
       "</style>\n",
       "<table border=\"1\" class=\"dataframe\">\n",
       "  <thead>\n",
       "    <tr style=\"text-align: right;\">\n",
       "      <th>Attrition_Flag</th>\n",
       "      <th>Attrited Customer</th>\n",
       "      <th>Existing Customer</th>\n",
       "      <th>Total</th>\n",
       "    </tr>\n",
       "    <tr>\n",
       "      <th>Gender</th>\n",
       "      <th></th>\n",
       "      <th></th>\n",
       "      <th></th>\n",
       "    </tr>\n",
       "  </thead>\n",
       "  <tbody>\n",
       "    <tr>\n",
       "      <th>F</th>\n",
       "      <td>930</td>\n",
       "      <td>4428</td>\n",
       "      <td>5358</td>\n",
       "    </tr>\n",
       "    <tr>\n",
       "      <th>M</th>\n",
       "      <td>697</td>\n",
       "      <td>4072</td>\n",
       "      <td>4769</td>\n",
       "    </tr>\n",
       "    <tr>\n",
       "      <th>Total</th>\n",
       "      <td>1627</td>\n",
       "      <td>8500</td>\n",
       "      <td>10127</td>\n",
       "    </tr>\n",
       "  </tbody>\n",
       "</table>\n",
       "</div>"
      ],
      "text/plain": [
       "Attrition_Flag  Attrited Customer  Existing Customer  Total\n",
       "Gender                                                     \n",
       "F                             930               4428   5358\n",
       "M                             697               4072   4769\n",
       "Total                        1627               8500  10127"
      ]
     },
     "execution_count": 29,
     "metadata": {},
     "output_type": "execute_result"
    }
   ],
   "source": [
    "pd.crosstab(df['Gender'], df['Attrition_Flag'], margins = True, margins_name = \"Total\")"
   ]
  },
  {
   "cell_type": "code",
   "execution_count": 30,
   "id": "f7c656fe",
   "metadata": {},
   "outputs": [
    {
     "data": {
      "image/png": "[encoded data removed]",
      "text/plain": [
       "<Figure size 448.075x288 with 2 Axes>"
      ]
     },
     "metadata": {
      "needs_background": "light"
     },
     "output_type": "display_data"
    }
   ],
   "source": [
    "sns.catplot(x=\"Card_Category\", hue=\"Gender\", col=\"Attrition_Flag\",\n",
    "                data=df, kind=\"count\",\n",
    "                height=4, aspect=.7);\n"
   ]
  },
  {
   "cell_type": "markdown",
   "id": "b2eb1b63",
   "metadata": {},
   "source": [
    "## What is the most Income Category based on Attrition Flag?"
   ]
  },
  {
   "cell_type": "code",
   "execution_count": 31,
   "id": "fc887b5e",
   "metadata": {},
   "outputs": [
    {
     "data": {
      "text/html": [
       "<div>\n",
       "<style scoped>\n",
       "    .dataframe tbody tr th:only-of-type {\n",
       "        vertical-align: middle;\n",
       "    }\n",
       "\n",
       "    .dataframe tbody tr th {\n",
       "        vertical-align: top;\n",
       "    }\n",
       "\n",
       "    .dataframe thead th {\n",
       "        text-align: right;\n",
       "    }\n",
       "</style>\n",
       "<table border=\"1\" class=\"dataframe\">\n",
       "  <thead>\n",
       "    <tr style=\"text-align: right;\">\n",
       "      <th>Attrition_Flag</th>\n",
       "      <th>Attrited Customer</th>\n",
       "      <th>Existing Customer</th>\n",
       "    </tr>\n",
       "    <tr>\n",
       "      <th>Income_Category</th>\n",
       "      <th></th>\n",
       "      <th></th>\n",
       "    </tr>\n",
       "  </thead>\n",
       "  <tbody>\n",
       "    <tr>\n",
       "      <th>$120K +</th>\n",
       "      <td>252</td>\n",
       "      <td>1202</td>\n",
       "    </tr>\n",
       "    <tr>\n",
       "      <th>$40K - $60K</th>\n",
       "      <td>542</td>\n",
       "      <td>3038</td>\n",
       "    </tr>\n",
       "    <tr>\n",
       "      <th>$60K - $80K</th>\n",
       "      <td>378</td>\n",
       "      <td>2426</td>\n",
       "    </tr>\n",
       "    <tr>\n",
       "      <th>$80K - $120K</th>\n",
       "      <td>484</td>\n",
       "      <td>2586</td>\n",
       "    </tr>\n",
       "    <tr>\n",
       "      <th>Less than $40K</th>\n",
       "      <td>1224</td>\n",
       "      <td>5898</td>\n",
       "    </tr>\n",
       "    <tr>\n",
       "      <th>Unknown</th>\n",
       "      <td>374</td>\n",
       "      <td>1850</td>\n",
       "    </tr>\n",
       "  </tbody>\n",
       "</table>\n",
       "</div>"
      ],
      "text/plain": [
       "Attrition_Flag   Attrited Customer  Existing Customer\n",
       "Income_Category                                      \n",
       "$120K +                        252               1202\n",
       "$40K - $60K                    542               3038\n",
       "$60K - $80K                    378               2426\n",
       "$80K - $120K                   484               2586\n",
       "Less than $40K                1224               5898\n",
       "Unknown                        374               1850"
      ]
     },
     "execution_count": 31,
     "metadata": {},
     "output_type": "execute_result"
    },
    {
     "data": {
      "image/png": "[encoded data removed]",
      "text/plain": [
       "<Figure size 432x288 with 1 Axes>"
      ]
     },
     "metadata": {
      "needs_background": "light"
     },
     "output_type": "display_data"
    }
   ],
   "source": [
    "make_pivot(\"Income_Category\",\"Attrition_Flag\")"
   ]
  },
  {
   "cell_type": "markdown",
   "id": "0908cbf4",
   "metadata": {},
   "source": [
    "## Is the Education Level affect on the Income Category?"
   ]
  },
  {
   "cell_type": "code",
   "execution_count": 32,
   "id": "9b95574d",
   "metadata": {
    "scrolled": false
   },
   "outputs": [
    {
     "data": {
      "image/png": "[encoded data removed]",
      "text/plain": [
       "<Figure size 720x432 with 1 Axes>"
      ]
     },
     "metadata": {
      "needs_background": "light"
     },
     "output_type": "display_data"
    }
   ],
   "source": [
    "df[['Income_Category', 'Education_Level']].groupby(['Education_Level'], sort = True).sum()\n",
    "plt.figure(figsize=(10, 6))\n",
    "plt.title('Which education level affect with income category')\n",
    "sns.countplot(df['Education_Level']);"
   ]
  },
  {
   "cell_type": "markdown",
   "id": "f582ab50",
   "metadata": {},
   "source": [
    "##  Does `Customer_Age` influnce the `Marital_Status`?"
   ]
  },
  {
   "cell_type": "code",
   "execution_count": 33,
   "id": "b97ee76e",
   "metadata": {
    "scrolled": false
   },
   "outputs": [
    {
     "data": {
      "image/png": "[encoded data removed]",
      "text/plain": [
       "<Figure size 432x288 with 1 Axes>"
      ]
     },
     "metadata": {
      "needs_background": "light"
     },
     "output_type": "display_data"
    }
   ],
   "source": [
    "show = sns.barplot(df['Customer_Age'], df['Marital_Status'])\n",
    "show.set_title(\"Number of age in each marital status\");"
   ]
  },
  {
   "cell_type": "markdown",
   "id": "5fabf74e",
   "metadata": {},
   "source": [
    "## Which card category has been used the most?"
   ]
  },
  {
   "cell_type": "code",
   "execution_count": 34,
   "id": "a32a6735",
   "metadata": {},
   "outputs": [
    {
     "data": {
      "image/png": "[encoded data removed]",
      "text/plain": [
       "<Figure size 720x432 with 1 Axes>"
      ]
     },
     "metadata": {
      "needs_background": "light"
     },
     "output_type": "display_data"
    }
   ],
   "source": [
    "plt.figure(figsize=(10, 6))\n",
    "card=sns.histplot(data=df, x=\"Card_Category\", bins=30)\n",
    "show_values(card)"
   ]
  },
  {
   "cell_type": "code",
   "execution_count": 35,
   "id": "ab39271f",
   "metadata": {
    "scrolled": true
   },
   "outputs": [
    {
     "data": {
      "text/html": [
       "<div>\n",
       "<style scoped>\n",
       "    .dataframe tbody tr th:only-of-type {\n",
       "        vertical-align: middle;\n",
       "    }\n",
       "\n",
       "    .dataframe tbody tr th {\n",
       "        vertical-align: top;\n",
       "    }\n",
       "\n",
       "    .dataframe thead th {\n",
       "        text-align: right;\n",
       "    }\n",
       "</style>\n",
       "<table border=\"1\" class=\"dataframe\">\n",
       "  <thead>\n",
       "    <tr style=\"text-align: right;\">\n",
       "      <th></th>\n",
       "      <th>Attrition_Flag</th>\n",
       "      <th>Customer_Age</th>\n",
       "      <th>Gender</th>\n",
       "      <th>Dependent_count</th>\n",
       "      <th>Education_Level</th>\n",
       "      <th>Marital_Status</th>\n",
       "      <th>Income_Category</th>\n",
       "      <th>Card_Category</th>\n",
       "      <th>Months_on_book</th>\n",
       "      <th>Total_Relationship_Count</th>\n",
       "      <th>Months_Inactive_12_mon</th>\n",
       "      <th>Contacts_Count_12_mon</th>\n",
       "      <th>Credit_Limit</th>\n",
       "      <th>Total_Revolving_Bal</th>\n",
       "      <th>Avg_Open_To_Buy</th>\n",
       "      <th>Total_Amt_Chng_Q4_Q1</th>\n",
       "      <th>Total_Trans_Amt</th>\n",
       "      <th>Total_Trans_Ct</th>\n",
       "      <th>Total_Ct_Chng_Q4_Q1</th>\n",
       "      <th>Avg_Utilization_Ratio</th>\n",
       "    </tr>\n",
       "  </thead>\n",
       "  <tbody>\n",
       "    <tr>\n",
       "      <th>0</th>\n",
       "      <td>Existing Customer</td>\n",
       "      <td>45</td>\n",
       "      <td>M</td>\n",
       "      <td>3</td>\n",
       "      <td>High School</td>\n",
       "      <td>Married</td>\n",
       "      <td>$60K - $80K</td>\n",
       "      <td>Blue</td>\n",
       "      <td>39</td>\n",
       "      <td>5</td>\n",
       "      <td>1</td>\n",
       "      <td>3</td>\n",
       "      <td>12691.0</td>\n",
       "      <td>777</td>\n",
       "      <td>11914.0</td>\n",
       "      <td>1.335</td>\n",
       "      <td>1144</td>\n",
       "      <td>42</td>\n",
       "      <td>1.625</td>\n",
       "      <td>0.061</td>\n",
       "    </tr>\n",
       "    <tr>\n",
       "      <th>1</th>\n",
       "      <td>Existing Customer</td>\n",
       "      <td>49</td>\n",
       "      <td>F</td>\n",
       "      <td>5</td>\n",
       "      <td>Graduate</td>\n",
       "      <td>Single</td>\n",
       "      <td>Less than $40K</td>\n",
       "      <td>Blue</td>\n",
       "      <td>44</td>\n",
       "      <td>6</td>\n",
       "      <td>1</td>\n",
       "      <td>2</td>\n",
       "      <td>8256.0</td>\n",
       "      <td>864</td>\n",
       "      <td>7392.0</td>\n",
       "      <td>1.541</td>\n",
       "      <td>1291</td>\n",
       "      <td>33</td>\n",
       "      <td>3.714</td>\n",
       "      <td>0.105</td>\n",
       "    </tr>\n",
       "    <tr>\n",
       "      <th>2</th>\n",
       "      <td>Existing Customer</td>\n",
       "      <td>51</td>\n",
       "      <td>M</td>\n",
       "      <td>3</td>\n",
       "      <td>Graduate</td>\n",
       "      <td>Married</td>\n",
       "      <td>$80K - $120K</td>\n",
       "      <td>Blue</td>\n",
       "      <td>36</td>\n",
       "      <td>4</td>\n",
       "      <td>1</td>\n",
       "      <td>0</td>\n",
       "      <td>3418.0</td>\n",
       "      <td>0</td>\n",
       "      <td>3418.0</td>\n",
       "      <td>2.594</td>\n",
       "      <td>1887</td>\n",
       "      <td>20</td>\n",
       "      <td>2.333</td>\n",
       "      <td>0.000</td>\n",
       "    </tr>\n",
       "    <tr>\n",
       "      <th>3</th>\n",
       "      <td>Existing Customer</td>\n",
       "      <td>40</td>\n",
       "      <td>F</td>\n",
       "      <td>4</td>\n",
       "      <td>High School</td>\n",
       "      <td>Unknown</td>\n",
       "      <td>Less than $40K</td>\n",
       "      <td>Blue</td>\n",
       "      <td>34</td>\n",
       "      <td>3</td>\n",
       "      <td>4</td>\n",
       "      <td>1</td>\n",
       "      <td>3313.0</td>\n",
       "      <td>2517</td>\n",
       "      <td>796.0</td>\n",
       "      <td>1.405</td>\n",
       "      <td>1171</td>\n",
       "      <td>20</td>\n",
       "      <td>2.333</td>\n",
       "      <td>0.760</td>\n",
       "    </tr>\n",
       "    <tr>\n",
       "      <th>4</th>\n",
       "      <td>Existing Customer</td>\n",
       "      <td>40</td>\n",
       "      <td>M</td>\n",
       "      <td>3</td>\n",
       "      <td>Uneducated</td>\n",
       "      <td>Married</td>\n",
       "      <td>$60K - $80K</td>\n",
       "      <td>Blue</td>\n",
       "      <td>21</td>\n",
       "      <td>5</td>\n",
       "      <td>1</td>\n",
       "      <td>0</td>\n",
       "      <td>4716.0</td>\n",
       "      <td>0</td>\n",
       "      <td>4716.0</td>\n",
       "      <td>2.175</td>\n",
       "      <td>816</td>\n",
       "      <td>28</td>\n",
       "      <td>2.500</td>\n",
       "      <td>0.000</td>\n",
       "    </tr>\n",
       "  </tbody>\n",
       "</table>\n",
       "</div>"
      ],
      "text/plain": [
       "      Attrition_Flag  Customer_Age Gender  Dependent_count Education_Level  \\\n",
       "0  Existing Customer            45      M                3     High School   \n",
       "1  Existing Customer            49      F                5        Graduate   \n",
       "2  Existing Customer            51      M                3        Graduate   \n",
       "3  Existing Customer            40      F                4     High School   \n",
       "4  Existing Customer            40      M                3      Uneducated   \n",
       "\n",
       "  Marital_Status Income_Category Card_Category  Months_on_book  \\\n",
       "0        Married     $60K - $80K          Blue              39   \n",
       "1         Single  Less than $40K          Blue              44   \n",
       "2        Married    $80K - $120K          Blue              36   \n",
       "3        Unknown  Less than $40K          Blue              34   \n",
       "4        Married     $60K - $80K          Blue              21   \n",
       "\n",
       "   Total_Relationship_Count  Months_Inactive_12_mon  Contacts_Count_12_mon  \\\n",
       "0                         5                       1                      3   \n",
       "1                         6                       1                      2   \n",
       "2                         4                       1                      0   \n",
       "3                         3                       4                      1   \n",
       "4                         5                       1                      0   \n",
       "\n",
       "   Credit_Limit  Total_Revolving_Bal  Avg_Open_To_Buy  Total_Amt_Chng_Q4_Q1  \\\n",
       "0       12691.0                  777          11914.0                 1.335   \n",
       "1        8256.0                  864           7392.0                 1.541   \n",
       "2        3418.0                    0           3418.0                 2.594   \n",
       "3        3313.0                 2517            796.0                 1.405   \n",
       "4        4716.0                    0           4716.0                 2.175   \n",
       "\n",
       "   Total_Trans_Amt  Total_Trans_Ct  Total_Ct_Chng_Q4_Q1  Avg_Utilization_Ratio  \n",
       "0             1144              42                1.625                  0.061  \n",
       "1             1291              33                3.714                  0.105  \n",
       "2             1887              20                2.333                  0.000  \n",
       "3             1171              20                2.333                  0.760  \n",
       "4              816              28                2.500                  0.000  "
      ]
     },
     "execution_count": 35,
     "metadata": {},
     "output_type": "execute_result"
    }
   ],
   "source": [
    "df.head()"
   ]
  },
  {
   "cell_type": "markdown",
   "id": "e401c562",
   "metadata": {},
   "source": [
    "#### apply a new data type (`category`) to our categorical feature"
   ]
  },
  {
   "cell_type": "code",
   "execution_count": 36,
   "id": "7cdcad9e",
   "metadata": {},
   "outputs": [],
   "source": [
    "cat_types = ['bool','object','category']\n",
    "data_c = df.copy()\n",
    "data_c[data_c.select_dtypes(cat_types).columns] = data_c.select_dtypes(cat_types).apply(lambda x: x.astype('category'))"
   ]
  },
  {
   "cell_type": "code",
   "execution_count": 37,
   "id": "eb4b4f66",
   "metadata": {},
   "outputs": [],
   "source": [
    "Attrition_s = {'Existing Customer':0, 'Attrited Customer':1}\n",
    "data_c['Attrition_Flag'] = data_c['Attrition_Flag'].map(Attrition_s)"
   ]
  },
  {
   "cell_type": "code",
   "execution_count": 38,
   "id": "7897d037",
   "metadata": {},
   "outputs": [],
   "source": [
    "X = data_c.drop('Attrition_Flag',errors='ignore',axis=1)\n",
    "y = data_c['Attrition_Flag']"
   ]
  },
  {
   "cell_type": "code",
   "execution_count": 39,
   "id": "a5f7590d",
   "metadata": {
    "scrolled": false
   },
   "outputs": [
    {
     "name": "stdout",
     "output_type": "stream",
     "text": [
      "<class 'pandas.core.frame.DataFrame'>\n",
      "RangeIndex: 10127 entries, 0 to 10126\n",
      "Data columns (total 20 columns):\n",
      " #   Column                    Non-Null Count  Dtype   \n",
      "---  ------                    --------------  -----   \n",
      " 0   Attrition_Flag            10127 non-null  category\n",
      " 1   Customer_Age              10127 non-null  int64   \n",
      " 2   Gender                    10127 non-null  category\n",
      " 3   Dependent_count           10127 non-null  int64   \n",
      " 4   Education_Level           10127 non-null  category\n",
      " 5   Marital_Status            10127 non-null  category\n",
      " 6   Income_Category           10127 non-null  category\n",
      " 7   Card_Category             10127 non-null  category\n",
      " 8   Months_on_book            10127 non-null  int64   \n",
      " 9   Total_Relationship_Count  10127 non-null  int64   \n",
      " 10  Months_Inactive_12_mon    10127 non-null  int64   \n",
      " 11  Contacts_Count_12_mon     10127 non-null  int64   \n",
      " 12  Credit_Limit              10127 non-null  float64 \n",
      " 13  Total_Revolving_Bal       10127 non-null  int64   \n",
      " 14  Avg_Open_To_Buy           10127 non-null  float64 \n",
      " 15  Total_Amt_Chng_Q4_Q1      10127 non-null  float64 \n",
      " 16  Total_Trans_Amt           10127 non-null  int64   \n",
      " 17  Total_Trans_Ct            10127 non-null  int64   \n",
      " 18  Total_Ct_Chng_Q4_Q1       10127 non-null  float64 \n",
      " 19  Avg_Utilization_Ratio     10127 non-null  float64 \n",
      "dtypes: category(6), float64(5), int64(9)\n",
      "memory usage: 1.1 MB\n"
     ]
    }
   ],
   "source": [
    "data_c.info()"
   ]
  },
  {
   "cell_type": "code",
   "execution_count": 40,
   "id": "0e1eda49",
   "metadata": {},
   "outputs": [],
   "source": [
    "def encode_and_bind(original_dataframe, feature_to_encode):\n",
    "    dummies = pd.get_dummies(original_dataframe[[feature_to_encode]])\n",
    "    res = pd.concat([original_dataframe, dummies], axis=1)\n",
    "    res = res.drop([feature_to_encode], axis=1)\n",
    "    return(res) "
   ]
  },
  {
   "cell_type": "code",
   "execution_count": 41,
   "id": "ed080af2",
   "metadata": {},
   "outputs": [],
   "source": [
    "features_to_encode = X.select_dtypes('category').columns.to_list()\n",
    "for feature in features_to_encode:\n",
    "    X = encode_and_bind(X, feature)"
   ]
  },
  {
   "cell_type": "code",
   "execution_count": 42,
   "id": "da9e59d8",
   "metadata": {
    "scrolled": true
   },
   "outputs": [
    {
     "name": "stdout",
     "output_type": "stream",
     "text": [
      "<class 'pandas.core.frame.DataFrame'>\n",
      "RangeIndex: 10127 entries, 0 to 10126\n",
      "Data columns (total 37 columns):\n",
      " #   Column                          Non-Null Count  Dtype  \n",
      "---  ------                          --------------  -----  \n",
      " 0   Customer_Age                    10127 non-null  int64  \n",
      " 1   Dependent_count                 10127 non-null  int64  \n",
      " 2   Months_on_book                  10127 non-null  int64  \n",
      " 3   Total_Relationship_Count        10127 non-null  int64  \n",
      " 4   Months_Inactive_12_mon          10127 non-null  int64  \n",
      " 5   Contacts_Count_12_mon           10127 non-null  int64  \n",
      " 6   Credit_Limit                    10127 non-null  float64\n",
      " 7   Total_Revolving_Bal             10127 non-null  int64  \n",
      " 8   Avg_Open_To_Buy                 10127 non-null  float64\n",
      " 9   Total_Amt_Chng_Q4_Q1            10127 non-null  float64\n",
      " 10  Total_Trans_Amt                 10127 non-null  int64  \n",
      " 11  Total_Trans_Ct                  10127 non-null  int64  \n",
      " 12  Total_Ct_Chng_Q4_Q1             10127 non-null  float64\n",
      " 13  Avg_Utilization_Ratio           10127 non-null  float64\n",
      " 14  Gender_F                        10127 non-null  uint8  \n",
      " 15  Gender_M                        10127 non-null  uint8  \n",
      " 16  Education_Level_College         10127 non-null  uint8  \n",
      " 17  Education_Level_Doctorate       10127 non-null  uint8  \n",
      " 18  Education_Level_Graduate        10127 non-null  uint8  \n",
      " 19  Education_Level_High School     10127 non-null  uint8  \n",
      " 20  Education_Level_Post-Graduate   10127 non-null  uint8  \n",
      " 21  Education_Level_Uneducated      10127 non-null  uint8  \n",
      " 22  Education_Level_Unknown         10127 non-null  uint8  \n",
      " 23  Marital_Status_Divorced         10127 non-null  uint8  \n",
      " 24  Marital_Status_Married          10127 non-null  uint8  \n",
      " 25  Marital_Status_Single           10127 non-null  uint8  \n",
      " 26  Marital_Status_Unknown          10127 non-null  uint8  \n",
      " 27  Income_Category_$120K +         10127 non-null  uint8  \n",
      " 28  Income_Category_$40K - $60K     10127 non-null  uint8  \n",
      " 29  Income_Category_$60K - $80K     10127 non-null  uint8  \n",
      " 30  Income_Category_$80K - $120K    10127 non-null  uint8  \n",
      " 31  Income_Category_Less than $40K  10127 non-null  uint8  \n",
      " 32  Income_Category_Unknown         10127 non-null  uint8  \n",
      " 33  Card_Category_Blue              10127 non-null  uint8  \n",
      " 34  Card_Category_Gold              10127 non-null  uint8  \n",
      " 35  Card_Category_Platinum          10127 non-null  uint8  \n",
      " 36  Card_Category_Silver            10127 non-null  uint8  \n",
      "dtypes: float64(5), int64(9), uint8(23)\n",
      "memory usage: 1.3 MB\n"
     ]
    }
   ],
   "source": [
    "X.info()"
   ]
  },
  {
   "cell_type": "code",
   "execution_count": 43,
   "id": "6c45fabc",
   "metadata": {
    "scrolled": false
   },
   "outputs": [
    {
     "data": {
      "text/html": [
       "<div>\n",
       "<style scoped>\n",
       "    .dataframe tbody tr th:only-of-type {\n",
       "        vertical-align: middle;\n",
       "    }\n",
       "\n",
       "    .dataframe tbody tr th {\n",
       "        vertical-align: top;\n",
       "    }\n",
       "\n",
       "    .dataframe thead th {\n",
       "        text-align: right;\n",
       "    }\n",
       "</style>\n",
       "<table border=\"1\" class=\"dataframe\">\n",
       "  <thead>\n",
       "    <tr style=\"text-align: right;\">\n",
       "      <th></th>\n",
       "      <th>Customer_Age</th>\n",
       "      <th>Dependent_count</th>\n",
       "      <th>Months_on_book</th>\n",
       "      <th>Total_Relationship_Count</th>\n",
       "      <th>Months_Inactive_12_mon</th>\n",
       "      <th>Contacts_Count_12_mon</th>\n",
       "      <th>Credit_Limit</th>\n",
       "      <th>Total_Revolving_Bal</th>\n",
       "      <th>Avg_Open_To_Buy</th>\n",
       "      <th>Total_Amt_Chng_Q4_Q1</th>\n",
       "      <th>...</th>\n",
       "      <th>Income_Category_$120K +</th>\n",
       "      <th>Income_Category_$40K - $60K</th>\n",
       "      <th>Income_Category_$60K - $80K</th>\n",
       "      <th>Income_Category_$80K - $120K</th>\n",
       "      <th>Income_Category_Less than $40K</th>\n",
       "      <th>Income_Category_Unknown</th>\n",
       "      <th>Card_Category_Blue</th>\n",
       "      <th>Card_Category_Gold</th>\n",
       "      <th>Card_Category_Platinum</th>\n",
       "      <th>Card_Category_Silver</th>\n",
       "    </tr>\n",
       "  </thead>\n",
       "  <tbody>\n",
       "    <tr>\n",
       "      <th>0</th>\n",
       "      <td>45</td>\n",
       "      <td>3</td>\n",
       "      <td>39</td>\n",
       "      <td>5</td>\n",
       "      <td>1</td>\n",
       "      <td>3</td>\n",
       "      <td>12691.0</td>\n",
       "      <td>777</td>\n",
       "      <td>11914.0</td>\n",
       "      <td>1.335</td>\n",
       "      <td>...</td>\n",
       "      <td>0</td>\n",
       "      <td>0</td>\n",
       "      <td>1</td>\n",
       "      <td>0</td>\n",
       "      <td>0</td>\n",
       "      <td>0</td>\n",
       "      <td>1</td>\n",
       "      <td>0</td>\n",
       "      <td>0</td>\n",
       "      <td>0</td>\n",
       "    </tr>\n",
       "    <tr>\n",
       "      <th>1</th>\n",
       "      <td>49</td>\n",
       "      <td>5</td>\n",
       "      <td>44</td>\n",
       "      <td>6</td>\n",
       "      <td>1</td>\n",
       "      <td>2</td>\n",
       "      <td>8256.0</td>\n",
       "      <td>864</td>\n",
       "      <td>7392.0</td>\n",
       "      <td>1.541</td>\n",
       "      <td>...</td>\n",
       "      <td>0</td>\n",
       "      <td>0</td>\n",
       "      <td>0</td>\n",
       "      <td>0</td>\n",
       "      <td>1</td>\n",
       "      <td>0</td>\n",
       "      <td>1</td>\n",
       "      <td>0</td>\n",
       "      <td>0</td>\n",
       "      <td>0</td>\n",
       "    </tr>\n",
       "    <tr>\n",
       "      <th>2</th>\n",
       "      <td>51</td>\n",
       "      <td>3</td>\n",
       "      <td>36</td>\n",
       "      <td>4</td>\n",
       "      <td>1</td>\n",
       "      <td>0</td>\n",
       "      <td>3418.0</td>\n",
       "      <td>0</td>\n",
       "      <td>3418.0</td>\n",
       "      <td>2.594</td>\n",
       "      <td>...</td>\n",
       "      <td>0</td>\n",
       "      <td>0</td>\n",
       "      <td>0</td>\n",
       "      <td>1</td>\n",
       "      <td>0</td>\n",
       "      <td>0</td>\n",
       "      <td>1</td>\n",
       "      <td>0</td>\n",
       "      <td>0</td>\n",
       "      <td>0</td>\n",
       "    </tr>\n",
       "    <tr>\n",
       "      <th>3</th>\n",
       "      <td>40</td>\n",
       "      <td>4</td>\n",
       "      <td>34</td>\n",
       "      <td>3</td>\n",
       "      <td>4</td>\n",
       "      <td>1</td>\n",
       "      <td>3313.0</td>\n",
       "      <td>2517</td>\n",
       "      <td>796.0</td>\n",
       "      <td>1.405</td>\n",
       "      <td>...</td>\n",
       "      <td>0</td>\n",
       "      <td>0</td>\n",
       "      <td>0</td>\n",
       "      <td>0</td>\n",
       "      <td>1</td>\n",
       "      <td>0</td>\n",
       "      <td>1</td>\n",
       "      <td>0</td>\n",
       "      <td>0</td>\n",
       "      <td>0</td>\n",
       "    </tr>\n",
       "    <tr>\n",
       "      <th>4</th>\n",
       "      <td>40</td>\n",
       "      <td>3</td>\n",
       "      <td>21</td>\n",
       "      <td>5</td>\n",
       "      <td>1</td>\n",
       "      <td>0</td>\n",
       "      <td>4716.0</td>\n",
       "      <td>0</td>\n",
       "      <td>4716.0</td>\n",
       "      <td>2.175</td>\n",
       "      <td>...</td>\n",
       "      <td>0</td>\n",
       "      <td>0</td>\n",
       "      <td>1</td>\n",
       "      <td>0</td>\n",
       "      <td>0</td>\n",
       "      <td>0</td>\n",
       "      <td>1</td>\n",
       "      <td>0</td>\n",
       "      <td>0</td>\n",
       "      <td>0</td>\n",
       "    </tr>\n",
       "  </tbody>\n",
       "</table>\n",
       "<p>5 rows × 37 columns</p>\n",
       "</div>"
      ],
      "text/plain": [
       "   Customer_Age  Dependent_count  Months_on_book  Total_Relationship_Count  \\\n",
       "0            45                3              39                         5   \n",
       "1            49                5              44                         6   \n",
       "2            51                3              36                         4   \n",
       "3            40                4              34                         3   \n",
       "4            40                3              21                         5   \n",
       "\n",
       "   Months_Inactive_12_mon  Contacts_Count_12_mon  Credit_Limit  \\\n",
       "0                       1                      3       12691.0   \n",
       "1                       1                      2        8256.0   \n",
       "2                       1                      0        3418.0   \n",
       "3                       4                      1        3313.0   \n",
       "4                       1                      0        4716.0   \n",
       "\n",
       "   Total_Revolving_Bal  Avg_Open_To_Buy  Total_Amt_Chng_Q4_Q1  ...  \\\n",
       "0                  777          11914.0                 1.335  ...   \n",
       "1                  864           7392.0                 1.541  ...   \n",
       "2                    0           3418.0                 2.594  ...   \n",
       "3                 2517            796.0                 1.405  ...   \n",
       "4                    0           4716.0                 2.175  ...   \n",
       "\n",
       "   Income_Category_$120K +  Income_Category_$40K - $60K  \\\n",
       "0                        0                            0   \n",
       "1                        0                            0   \n",
       "2                        0                            0   \n",
       "3                        0                            0   \n",
       "4                        0                            0   \n",
       "\n",
       "   Income_Category_$60K - $80K  Income_Category_$80K - $120K  \\\n",
       "0                            1                             0   \n",
       "1                            0                             0   \n",
       "2                            0                             1   \n",
       "3                            0                             0   \n",
       "4                            1                             0   \n",
       "\n",
       "   Income_Category_Less than $40K  Income_Category_Unknown  \\\n",
       "0                               0                        0   \n",
       "1                               1                        0   \n",
       "2                               0                        0   \n",
       "3                               1                        0   \n",
       "4                               0                        0   \n",
       "\n",
       "   Card_Category_Blue  Card_Category_Gold  Card_Category_Platinum  \\\n",
       "0                   1                   0                       0   \n",
       "1                   1                   0                       0   \n",
       "2                   1                   0                       0   \n",
       "3                   1                   0                       0   \n",
       "4                   1                   0                       0   \n",
       "\n",
       "   Card_Category_Silver  \n",
       "0                     0  \n",
       "1                     0  \n",
       "2                     0  \n",
       "3                     0  \n",
       "4                     0  \n",
       "\n",
       "[5 rows x 37 columns]"
      ]
     },
     "execution_count": 43,
     "metadata": {},
     "output_type": "execute_result"
    }
   ],
   "source": [
    "X.head()"
   ]
  },
  {
   "cell_type": "code",
   "execution_count": 44,
   "id": "8580dcc8",
   "metadata": {},
   "outputs": [
    {
     "data": {
      "text/plain": [
       "0    8500\n",
       "1    1627\n",
       "Name: Attrition_Flag, dtype: int64"
      ]
     },
     "execution_count": 44,
     "metadata": {},
     "output_type": "execute_result"
    }
   ],
   "source": [
    "y.value_counts()"
   ]
  },
  {
   "cell_type": "markdown",
   "id": "6cc30d7c",
   "metadata": {},
   "source": [
    "### Split to (Train-Test) dataset"
   ]
  },
  {
   "cell_type": "code",
   "execution_count": 45,
   "id": "e4758c10",
   "metadata": {},
   "outputs": [],
   "source": [
    "X_train, X_test, y_train, y_test = train_test_split(X, y, test_size=0.2, random_state = 0, shuffle= True,stratify = y)"
   ]
  },
  {
   "cell_type": "markdown",
   "id": "50e5fa62",
   "metadata": {},
   "source": [
    "-------\n",
    "## Scale"
   ]
  },
  {
   "cell_type": "code",
   "execution_count": 46,
   "id": "b7096bfa",
   "metadata": {},
   "outputs": [],
   "source": [
    "scaler = StandardScaler()\n",
    "\n",
    "X_train_scaled = scaler.fit_transform(X_train.values)\n",
    "X_test_scaled = scaler.transform(X_test.values)"
   ]
  },
  {
   "cell_type": "markdown",
   "id": "fe59b5da",
   "metadata": {},
   "source": [
    "## The models"
   ]
  },
  {
   "cell_type": "markdown",
   "id": "77dad8bb",
   "metadata": {},
   "source": [
    "### KNN"
   ]
  },
  {
   "cell_type": "code",
   "execution_count": 47,
   "id": "12d4eaa5",
   "metadata": {},
   "outputs": [],
   "source": [
    "knn = KNeighborsClassifier(metric ='manhattan', n_neighbors=7, weights= 'distance')\n",
    "\n",
    "#Train the model using the training sets\n",
    "knn.fit(X_train, y_train)\n",
    "#Predict the response for test dataset\n",
    "y_pred_knn = knn.predict(X_test)"
   ]
  },
  {
   "cell_type": "code",
   "execution_count": 48,
   "id": "fad55209",
   "metadata": {},
   "outputs": [
    {
     "data": {
      "text/plain": [
       "<AxesSubplot:>"
      ]
     },
     "execution_count": 48,
     "metadata": {},
     "output_type": "execute_result"
    },
    {
     "data": {
      "image/png": "[encoded data removed]",
      "text/plain": [
       "<Figure size 432x288 with 2 Axes>"
      ]
     },
     "metadata": {
      "needs_background": "light"
     },
     "output_type": "display_data"
    }
   ],
   "source": [
    "cm_knn=metrics.confusion_matrix(y_test,y_pred_knn, labels=[1,0])\n",
    "#cm_RFC\n",
    "sns.heatmap(cm_knn,annot=True)"
   ]
  },
  {
   "cell_type": "code",
   "execution_count": 49,
   "id": "ad548f9b",
   "metadata": {
    "scrolled": true
   },
   "outputs": [
    {
     "name": "stdout",
     "output_type": "stream",
     "text": [
      "              precision    recall  f1-score   support\n",
      "\n",
      "           1       0.75      0.61      0.67       325\n",
      "           0       0.93      0.96      0.94      1701\n",
      "\n",
      "    accuracy                           0.90      2026\n",
      "   macro avg       0.84      0.78      0.81      2026\n",
      "weighted avg       0.90      0.90      0.90      2026\n",
      "\n",
      "Accuracy_Score: 90.42448173741361 %\n",
      "Recall: 60.92307692307693 %\n",
      "precision: 74.71698113207546 %\n"
     ]
    }
   ],
   "source": [
    "print(metrics.classification_report(y_test,y_pred_knn, labels=[1,0]))\n",
    "print('Accuracy_Score:',accuracy_score(y_test,y_pred_knn)*100,'%')\n",
    "print('Recall:',metrics.recall_score(y_test,y_pred_knn)*100,'%')\n",
    "print('precision:',metrics.precision_score(y_test,y_pred_knn)*100,'%')"
   ]
  },
  {
   "cell_type": "markdown",
   "id": "707cc385",
   "metadata": {},
   "source": [
    "#### Logistic Regression"
   ]
  },
  {
   "cell_type": "code",
   "execution_count": 50,
   "id": "7ba43211",
   "metadata": {},
   "outputs": [
    {
     "data": {
      "text/plain": [
       "LogisticRegression(C=3, random_state=0)"
      ]
     },
     "execution_count": 50,
     "metadata": {},
     "output_type": "execute_result"
    }
   ],
   "source": [
    "# Train the model\n",
    "\n",
    "lr = LogisticRegression(C= 3,penalty= 'l2',random_state = 0)\n",
    "lr.fit(X_train_scaled, y_train)"
   ]
  },
  {
   "cell_type": "code",
   "execution_count": 51,
   "id": "c77e21e2",
   "metadata": {},
   "outputs": [],
   "source": [
    "y_pred_lr = lr.predict(X_test_scaled)"
   ]
  },
  {
   "cell_type": "code",
   "execution_count": 52,
   "id": "f32ee1a2",
   "metadata": {},
   "outputs": [
    {
     "name": "stdout",
     "output_type": "stream",
     "text": [
      "Accuracy: 90.76999012833168 %\n"
     ]
    }
   ],
   "source": [
    "print(\"Accuracy:\" ,lr.score(X_test_scaled,y_test)*100.0,'%')"
   ]
  },
  {
   "cell_type": "code",
   "execution_count": 53,
   "id": "de681dff",
   "metadata": {
    "scrolled": true
   },
   "outputs": [
    {
     "data": {
      "text/plain": [
       "<AxesSubplot:>"
      ]
     },
     "execution_count": 53,
     "metadata": {},
     "output_type": "execute_result"
    },
    {
     "data": {
      "image/png": "[encoded data removed]",
      "text/plain": [
       "<Figure size 432x288 with 2 Axes>"
      ]
     },
     "metadata": {
      "needs_background": "light"
     },
     "output_type": "display_data"
    }
   ],
   "source": [
    "cm_lr=metrics.confusion_matrix(y_test,y_pred_lr, labels=[1,0])\n",
    "cm_lr\n",
    "sns.heatmap(cm_lr,annot=True)"
   ]
  },
  {
   "cell_type": "code",
   "execution_count": 54,
   "id": "bd94fa15",
   "metadata": {
    "scrolled": true
   },
   "outputs": [
    {
     "name": "stdout",
     "output_type": "stream",
     "text": [
      "              precision    recall  f1-score   support\n",
      "\n",
      "           1       0.81      0.56      0.66       325\n",
      "           0       0.92      0.97      0.95      1701\n",
      "\n",
      "    accuracy                           0.91      2026\n",
      "   macro avg       0.86      0.77      0.80      2026\n",
      "weighted avg       0.90      0.91      0.90      2026\n",
      "\n",
      "Accuracy_Score: 90.76999012833168 %\n",
      "Recall: 56.00000000000001 %\n",
      "precision: 80.53097345132744 %\n"
     ]
    }
   ],
   "source": [
    "print(metrics.classification_report(y_test,y_pred_lr, labels=[1,0]))\n",
    "print('Accuracy_Score:',accuracy_score(y_test,y_pred_lr)*100,'%')\n",
    "print('Recall:',metrics.recall_score(y_test,y_pred_lr)*100,'%')\n",
    "print('precision:',metrics.precision_score(y_test,y_pred_lr)*100,'%')"
   ]
  },
  {
   "cell_type": "markdown",
   "id": "36f4f0b0",
   "metadata": {},
   "source": [
    "#### Decision Tree Classifier"
   ]
  },
  {
   "cell_type": "code",
   "execution_count": 55,
   "id": "2bfd766c",
   "metadata": {},
   "outputs": [
    {
     "data": {
      "text/plain": [
       "DecisionTreeClassifier()"
      ]
     },
     "execution_count": 55,
     "metadata": {},
     "output_type": "execute_result"
    }
   ],
   "source": [
    "dtc = DecisionTreeClassifier()\n",
    "dtc.fit(X_train, y_train)"
   ]
  },
  {
   "cell_type": "markdown",
   "id": "d0bdd504",
   "metadata": {},
   "source": [
    "## parameter for gridsearchcv"
   ]
  },
  {
   "cell_type": "code",
   "execution_count": 56,
   "id": "e7a6d26b",
   "metadata": {},
   "outputs": [],
   "source": [
    "param_dict_dtc = {\n",
    "    \"criterion\":['gini','entropy'],\n",
    "    \"max_depth\":range(1,10),\n",
    "    \"min_samples_split\":range(1,10),\n",
    "    \"min_samples_leaf\":range(1,5)\n",
    "    \n",
    "}"
   ]
  },
  {
   "cell_type": "code",
   "execution_count": 57,
   "id": "d98271a2",
   "metadata": {
    "scrolled": false
   },
   "outputs": [
    {
     "name": "stdout",
     "output_type": "stream",
     "text": [
      "Fitting 10 folds for each of 648 candidates, totalling 6480 fits\n"
     ]
    },
    {
     "data": {
      "text/plain": [
       "GridSearchCV(cv=10, estimator=DecisionTreeClassifier(), n_jobs=-1,\n",
       "             param_grid={'criterion': ['gini', 'entropy'],\n",
       "                         'max_depth': range(1, 10),\n",
       "                         'min_samples_leaf': range(1, 5),\n",
       "                         'min_samples_split': range(1, 10)},\n",
       "             verbose=1)"
      ]
     },
     "execution_count": 57,
     "metadata": {},
     "output_type": "execute_result"
    }
   ],
   "source": [
    "grid = GridSearchCV(dtc,\n",
    "                   param_grid=param_dict_dtc,\n",
    "                   cv=10,\n",
    "                   verbose=1,\n",
    "                   n_jobs=-1)\n",
    "grid.fit(X_train,y_train)"
   ]
  },
  {
   "cell_type": "code",
   "execution_count": 58,
   "id": "47752721",
   "metadata": {},
   "outputs": [
    {
     "name": "stdout",
     "output_type": "stream",
     "text": [
      "The best paramaters are: {'criterion': 'gini', 'max_depth': 8, 'min_samples_leaf': 1, 'min_samples_split': 4}\n",
      "\n",
      "\n",
      "Grid best score is: 94.2724421914722 %\n"
     ]
    }
   ],
   "source": [
    "print('The best paramaters are:',grid.best_params_)\n",
    "print(\"\\n\")\n",
    "print('Grid best score is:',grid.best_score_*100,'%')"
   ]
  },
  {
   "cell_type": "code",
   "execution_count": 59,
   "id": "fbc7b6ba",
   "metadata": {},
   "outputs": [],
   "source": [
    "# Train the model\n",
    "dtc = DecisionTreeClassifier(max_depth= 8,random_state = 0,min_samples_split= 6)\n",
    "dtc.fit(X_train, y_train)\n",
    "y_pred_dtc = dtc.predict(X_test)"
   ]
  },
  {
   "cell_type": "code",
   "execution_count": 60,
   "id": "532bf056",
   "metadata": {
    "scrolled": true
   },
   "outputs": [
    {
     "data": {
      "text/plain": [
       "<AxesSubplot:>"
      ]
     },
     "execution_count": 60,
     "metadata": {},
     "output_type": "execute_result"
    },
    {
     "data": {
      "image/png": "[encoded data removed]",
      "text/plain": [
       "<Figure size 432x288 with 2 Axes>"
      ]
     },
     "metadata": {
      "needs_background": "light"
     },
     "output_type": "display_data"
    }
   ],
   "source": [
    "cm_dtc=metrics.confusion_matrix(y_test,y_pred_dtc, labels=[1,0])\n",
    "cm_dtc\n",
    "sns.heatmap(cm_dtc,annot=True)"
   ]
  },
  {
   "cell_type": "code",
   "execution_count": 61,
   "id": "d78d2d6c",
   "metadata": {
    "scrolled": false
   },
   "outputs": [
    {
     "name": "stdout",
     "output_type": "stream",
     "text": [
      "              precision    recall  f1-score   support\n",
      "\n",
      "           1       0.85      0.77      0.81       325\n",
      "           0       0.96      0.97      0.97      1701\n",
      "\n",
      "    accuracy                           0.94      2026\n",
      "   macro avg       0.90      0.87      0.89      2026\n",
      "weighted avg       0.94      0.94      0.94      2026\n",
      "\n",
      "Accuracy_Score: 94.1263573543929 %\n",
      "Recall: 76.61538461538461 %\n",
      "precision: 85.27397260273972 %\n"
     ]
    }
   ],
   "source": [
    "print(metrics.classification_report(y_test,y_pred_dtc, labels=[1,0]))\n",
    "print('Accuracy_Score:',accuracy_score(y_test,y_pred_dtc)*100,'%')\n",
    "print('Recall:',metrics.recall_score(y_test,y_pred_dtc)*100,'%')\n",
    "print('precision:',metrics.precision_score(y_test,y_pred_dtc)*100,'%')"
   ]
  },
  {
   "cell_type": "markdown",
   "id": "fa1accf6",
   "metadata": {},
   "source": [
    "#### Random Forest Classifier"
   ]
  },
  {
   "cell_type": "code",
   "execution_count": 62,
   "id": "d6d6b095",
   "metadata": {
    "scrolled": false
   },
   "outputs": [],
   "source": [
    "RFC = RandomForestClassifier(random_state = 0,max_depth= 9,min_samples_leaf=1,n_estimators=8)\n",
    "RFC.fit(X_train,y_train)\n",
    "y_pred_RFC = RFC.predict(X_test)"
   ]
  },
  {
   "cell_type": "code",
   "execution_count": 63,
   "id": "2b95e8de",
   "metadata": {
    "scrolled": false
   },
   "outputs": [
    {
     "data": {
      "text/plain": [
       "<AxesSubplot:>"
      ]
     },
     "execution_count": 63,
     "metadata": {},
     "output_type": "execute_result"
    },
    {
     "data": {
      "image/png": "[encoded data removed]",
      "text/plain": [
       "<Figure size 432x288 with 2 Axes>"
      ]
     },
     "metadata": {
      "needs_background": "light"
     },
     "output_type": "display_data"
    }
   ],
   "source": [
    "cm_RFC=metrics.confusion_matrix(y_test,y_pred_RFC, labels=[1,0])\n",
    "#cm_RFC\n",
    "sns.heatmap(cm_RFC,annot=True)"
   ]
  },
  {
   "cell_type": "code",
   "execution_count": 64,
   "id": "97ed91b9",
   "metadata": {
    "scrolled": false
   },
   "outputs": [
    {
     "name": "stdout",
     "output_type": "stream",
     "text": [
      "              precision    recall  f1-score   support\n",
      "\n",
      "           1       0.91      0.72      0.80       325\n",
      "           0       0.95      0.99      0.97      1701\n",
      "\n",
      "    accuracy                           0.94      2026\n",
      "   macro avg       0.93      0.85      0.88      2026\n",
      "weighted avg       0.94      0.94      0.94      2026\n",
      "\n",
      "Accuracy_Score: 94.32379072063178 %\n",
      "Recall: 71.6923076923077 %\n",
      "precision: 91.015625 %\n"
     ]
    }
   ],
   "source": [
    "print(metrics.classification_report(y_test,y_pred_RFC, labels=[1,0]))\n",
    "print('Accuracy_Score:',accuracy_score(y_test,y_pred_RFC)*100,'%')\n",
    "print('Recall:',metrics.recall_score(y_test,y_pred_RFC)*100,'%')\n",
    "print('precision:',metrics.precision_score(y_test,y_pred_RFC)*100,'%')"
   ]
  },
  {
   "cell_type": "markdown",
   "id": "537f0658",
   "metadata": {},
   "source": [
    "### XGBoost"
   ]
  },
  {
   "cell_type": "code",
   "execution_count": 65,
   "id": "dd18dda5",
   "metadata": {
    "scrolled": true
   },
   "outputs": [
    {
     "name": "stdout",
     "output_type": "stream",
     "text": [
      "[09:15:56] WARNING: C:/Users/Administrator/workspace/xgboost-win64_release_1.5.1/src/learner.cc:1115: Starting in XGBoost 1.3.0, the default evaluation metric used with the objective 'binary:logistic' was changed from 'error' to 'logloss'. Explicitly set eval_metric if you'd like to restore the old behavior.\n"
     ]
    }
   ],
   "source": [
    "xgb=XGBClassifier(colsample_bytree= 0.6, gamma= 1.5, max_depth= 5,min_child_weight= 1,subsample= 1.0)\n",
    "xgb.fit(X_train,y_train)\n",
    "y_pred_xgb = xgb.predict(X_test)"
   ]
  },
  {
   "cell_type": "code",
   "execution_count": 66,
   "id": "6e0ebe54",
   "metadata": {
    "scrolled": true
   },
   "outputs": [
    {
     "data": {
      "text/plain": [
       "<AxesSubplot:>"
      ]
     },
     "execution_count": 66,
     "metadata": {},
     "output_type": "execute_result"
    },
    {
     "data": {
      "image/png": "[encoded data removed]",
      "text/plain": [
       "<Figure size 432x288 with 2 Axes>"
      ]
     },
     "metadata": {
      "needs_background": "light"
     },
     "output_type": "display_data"
    }
   ],
   "source": [
    "cm_xgb=metrics.confusion_matrix(y_test,y_pred_xgb, labels=[1,0])\n",
    "sns.heatmap(cm_xgb,annot=True)"
   ]
  },
  {
   "cell_type": "code",
   "execution_count": 67,
   "id": "c8b165b3",
   "metadata": {
    "scrolled": true
   },
   "outputs": [
    {
     "name": "stdout",
     "output_type": "stream",
     "text": [
      "              precision    recall  f1-score   support\n",
      "\n",
      "           1       0.96      0.87      0.91       325\n",
      "           0       0.98      0.99      0.98      1701\n",
      "\n",
      "    accuracy                           0.97      2026\n",
      "   macro avg       0.97      0.93      0.95      2026\n",
      "weighted avg       0.97      0.97      0.97      2026\n",
      "\n",
      "Accuracy_Score: 97.28529121421519 %\n",
      "Recall: 86.76923076923076 %\n",
      "precision: 95.91836734693877 %\n"
     ]
    }
   ],
   "source": [
    "print(metrics.classification_report(y_test,y_pred_xgb, labels=[1,0]))\n",
    "print('Accuracy_Score:',accuracy_score(y_test,y_pred_xgb)*100,'%')\n",
    "print('Recall:',metrics.recall_score(y_test,y_pred_xgb)*100,'%')\n",
    "print('precision:',metrics.precision_score(y_test,y_pred_xgb)*100,'%')"
   ]
  },
  {
   "cell_type": "markdown",
   "id": "96539f9e",
   "metadata": {},
   "source": [
    "### LGBM Classifier"
   ]
  },
  {
   "cell_type": "code",
   "execution_count": 68,
   "id": "67b831d3",
   "metadata": {},
   "outputs": [
    {
     "name": "stdout",
     "output_type": "stream",
     "text": [
      "[LightGBM] [Warning] Unknown parameter: bagging_frequency\n",
      "[LightGBM] [Warning] feature_fraction is set=0.8, colsample_bytree=1.0 will be ignored. Current value: feature_fraction=0.8\n",
      "[LightGBM] [Warning] min_data_in_leaf is set=120, min_child_samples=20 will be ignored. Current value: min_data_in_leaf=120\n",
      "[LightGBM] [Warning] bagging_fraction is set=0.5, subsample=1.0 will be ignored. Current value: bagging_fraction=0.5\n"
     ]
    }
   ],
   "source": [
    "lgbm=LGBMClassifier(bagging_fraction= 0.5,bagging_frequency= 5,feature_fraction= 0.8,max_depth= 13,min_data_in_leaf= 120,\n",
    "                    num_leaves= 1200)\n",
    "lgbm.fit(X_train,y_train)\n",
    "y_pred_lgbm = lgbm.predict(X_test)"
   ]
  },
  {
   "cell_type": "code",
   "execution_count": 69,
   "id": "88108a6e",
   "metadata": {},
   "outputs": [
    {
     "data": {
      "text/plain": [
       "<AxesSubplot:>"
      ]
     },
     "execution_count": 69,
     "metadata": {},
     "output_type": "execute_result"
    },
    {
     "data": {
      "image/png": "[encoded data removed]",
      "text/plain": [
       "<Figure size 432x288 with 2 Axes>"
      ]
     },
     "metadata": {
      "needs_background": "light"
     },
     "output_type": "display_data"
    }
   ],
   "source": [
    "cm_lgbm=metrics.confusion_matrix(y_test,y_pred_lgbm, labels=[1,0])\n",
    "sns.heatmap(cm_lgbm,annot=True)"
   ]
  },
  {
   "cell_type": "code",
   "execution_count": 70,
   "id": "dbe8dbc8",
   "metadata": {
    "scrolled": true
   },
   "outputs": [
    {
     "name": "stdout",
     "output_type": "stream",
     "text": [
      "              precision    recall  f1-score   support\n",
      "\n",
      "           1       0.95      0.86      0.90       325\n",
      "           0       0.97      0.99      0.98      1701\n",
      "\n",
      "    accuracy                           0.97      2026\n",
      "   macro avg       0.96      0.93      0.94      2026\n",
      "weighted avg       0.97      0.97      0.97      2026\n",
      "\n",
      "Accuracy_Score: 97.03849950641658 %\n",
      "Recall: 86.46153846153845 %\n",
      "precision: 94.61279461279462 %\n"
     ]
    }
   ],
   "source": [
    "print(metrics.classification_report(y_test,y_pred_lgbm, labels=[1,0]))\n",
    "print('Accuracy_Score:',accuracy_score(y_test,y_pred_lgbm)*100,'%')\n",
    "print('Recall:',metrics.recall_score(y_test,y_pred_lgbm)*100,'%')\n",
    "print('precision:',metrics.precision_score(y_test,y_pred_lgbm)*100,'%')"
   ]
  },
  {
   "cell_type": "markdown",
   "id": "4c7b1495",
   "metadata": {},
   "source": [
    "### Receiver Operating Characterstic Curve with the imbalanced data."
   ]
  },
  {
   "cell_type": "code",
   "execution_count": 71,
   "id": "1e57f32c",
   "metadata": {
    "scrolled": false
   },
   "outputs": [
    {
     "data": {
      "image/png": "[encoded data removed]",
      "text/plain": [
       "<Figure size 720x360 with 1 Axes>"
      ]
     },
     "metadata": {},
     "output_type": "display_data"
    }
   ],
   "source": [
    "lr_false_positive_rate,lr_true_positive_rate,lr_threshold = metrics.roc_curve(y_test,y_pred_lr)\n",
    "RFC_false_positive_rate,RFC_true_positive_rate,RFC_threshold = metrics.roc_curve(y_test,y_pred_RFC)                                                             \n",
    "xgb_false_positive_rate,xgb_true_positive_rate,xgb_threshold = metrics.roc_curve(y_test,y_pred_xgb)\n",
    "knn_false_positive_rate,knn_true_positive_rate,knn_threshold = metrics.roc_curve(y_test,y_pred_knn)\n",
    "dtc_false_positive_rate,dtc_true_positive_rate,dtc_threshold = metrics.roc_curve(y_test,y_pred_dtc)\n",
    "lgbm_false_positive_rate,lgbm_true_positive_rate,lgbm_threshold = metrics.roc_curve(y_test,y_pred_lgbm)\n",
    "\n",
    "\n",
    "sns.set_style('whitegrid')\n",
    "plt.figure(figsize=(10,5))\n",
    "plt.title('Receiver Operating Characterstic Curve')\n",
    "plt.plot(lr_false_positive_rate,lr_true_positive_rate,label='Logistic Regression')\n",
    "plt.plot(RFC_false_positive_rate,RFC_true_positive_rate,label='Random Forest')\n",
    "plt.plot(xgb_false_positive_rate,xgb_true_positive_rate,label='Extreme Gradient Boost')\n",
    "plt.plot(knn_false_positive_rate,knn_true_positive_rate,label='K-Nearest Neighbor')\n",
    "plt.plot(dtc_false_positive_rate,dtc_true_positive_rate,label='Desion Tree')\n",
    "plt.plot(dtc_false_positive_rate,dtc_true_positive_rate,label='Light Gradient Boost')\n",
    "\n",
    "plt.plot([0,1],ls='--')\n",
    "plt.plot([0,0],[1,0],c='.5')\n",
    "plt.plot([1,1],c='.5')\n",
    "plt.ylabel('True positive rate')\n",
    "plt.xlabel('False positive rate')\n",
    "plt.legend()\n",
    "plt.show()"
   ]
  },
  {
   "cell_type": "markdown",
   "id": "df9d9597",
   "metadata": {},
   "source": [
    "# Dealing with the imbalanced data"
   ]
  },
  {
   "cell_type": "markdown",
   "id": "33030b6f",
   "metadata": {},
   "source": [
    "### Trying out `SMOTE()`"
   ]
  },
  {
   "cell_type": "code",
   "execution_count": 72,
   "id": "b4cbe37b",
   "metadata": {},
   "outputs": [],
   "source": [
    "oversample = SMOTE()\n",
    "X_train2, y_train2 = oversample.fit_resample(X, y)"
   ]
  },
  {
   "cell_type": "code",
   "execution_count": 73,
   "id": "4a954148",
   "metadata": {},
   "outputs": [],
   "source": [
    "X_train2, X_test2, y_train2, y_test2 = train_test_split( X_train2, y_train2, test_size=0.2, random_state=20,shuffle=True)"
   ]
  },
  {
   "cell_type": "markdown",
   "id": "d4e1611f",
   "metadata": {},
   "source": [
    "#### KNeighbors Classifier after dealing with the imbalanced data. using `SMOTE()`."
   ]
  },
  {
   "cell_type": "code",
   "execution_count": 74,
   "id": "2a0db2cb",
   "metadata": {},
   "outputs": [],
   "source": [
    "knn2 = KNeighborsClassifier(metric ='manhattan', n_neighbors=7, weights= 'distance')\n",
    "\n",
    "#Train the model using the training sets\n",
    "knn2.fit(X_train2, y_train2)\n",
    "\n",
    "#Predict the response for test dataset\n",
    "y_pred_knn2 = knn2.predict(X_test2)"
   ]
  },
  {
   "cell_type": "code",
   "execution_count": 75,
   "id": "e2c9e03a",
   "metadata": {},
   "outputs": [
    {
     "data": {
      "text/plain": [
       "<AxesSubplot:>"
      ]
     },
     "execution_count": 75,
     "metadata": {},
     "output_type": "execute_result"
    },
    {
     "data": {
      "image/png": "[encoded data removed]",
      "text/plain": [
       "<Figure size 432x288 with 2 Axes>"
      ]
     },
     "metadata": {},
     "output_type": "display_data"
    }
   ],
   "source": [
    "cf_knn2=metrics.confusion_matrix(y_test2,y_pred_knn2, labels=[1,0])\n",
    "sns.heatmap(cf_knn2,annot=True)"
   ]
  },
  {
   "cell_type": "code",
   "execution_count": 76,
   "id": "873051df",
   "metadata": {
    "scrolled": true
   },
   "outputs": [
    {
     "name": "stdout",
     "output_type": "stream",
     "text": [
      "              precision    recall  f1-score   support\n",
      "\n",
      "           1       0.87      0.96      0.91      1717\n",
      "           0       0.95      0.86      0.90      1683\n",
      "\n",
      "    accuracy                           0.91      3400\n",
      "   macro avg       0.91      0.91      0.91      3400\n",
      "weighted avg       0.91      0.91      0.91      3400\n",
      "\n",
      "Accuracy_Score: 90.91176470588235 %\n",
      "Recall: 95.86488060570763 %\n",
      "precision: 87.36730360934183 %\n"
     ]
    }
   ],
   "source": [
    "print(metrics.classification_report(y_test2,y_pred_knn2, labels=[1,0]))\n",
    "print('Accuracy_Score:',accuracy_score(y_test2,y_pred_knn2)*100,'%')\n",
    "print('Recall:',metrics.recall_score(y_test2,y_pred_knn2)*100,'%')\n",
    "print('precision:',metrics.precision_score(y_test2,y_pred_knn2)*100,'%')"
   ]
  },
  {
   "cell_type": "code",
   "execution_count": 77,
   "id": "39b87a73",
   "metadata": {},
   "outputs": [],
   "source": [
    "scaler2 = StandardScaler()\n",
    "\n",
    "X_train_scaled2 = scaler2.fit_transform(X_train2.values)\n",
    "X_test_scaled2 = scaler2.transform(X_test2.values)"
   ]
  },
  {
   "cell_type": "markdown",
   "id": "4583e95b",
   "metadata": {},
   "source": [
    "#### Logistic Regression after dealing with the imbalanced data. using `SMOTE()`."
   ]
  },
  {
   "cell_type": "code",
   "execution_count": 78,
   "id": "ddefa3cb",
   "metadata": {},
   "outputs": [],
   "source": [
    "# Train the model\n",
    "\n",
    "lr2 = LogisticRegression(C= 3,penalty= 'l2',random_state = 0)\n",
    "lr2.fit(X_train_scaled2, y_train2)\n",
    "y_pred_lr2 = lr2.predict(X_test_scaled2)"
   ]
  },
  {
   "cell_type": "code",
   "execution_count": 79,
   "id": "f09f0850",
   "metadata": {},
   "outputs": [
    {
     "data": {
      "text/plain": [
       "<AxesSubplot:>"
      ]
     },
     "execution_count": 79,
     "metadata": {},
     "output_type": "execute_result"
    },
    {
     "data": {
      "image/png": "[encoded data removed]",
      "text/plain": [
       "<Figure size 432x288 with 2 Axes>"
      ]
     },
     "metadata": {},
     "output_type": "display_data"
    }
   ],
   "source": [
    "cf_lr2=metrics.confusion_matrix(y_test2,y_pred_lr2, labels=[1,0])\n",
    "sns.heatmap(cf_lr2,annot=True)"
   ]
  },
  {
   "cell_type": "code",
   "execution_count": 80,
   "id": "549e589a",
   "metadata": {
    "scrolled": true
   },
   "outputs": [
    {
     "name": "stdout",
     "output_type": "stream",
     "text": [
      "              precision    recall  f1-score   support\n",
      "\n",
      "           1       0.96      0.92      0.94      1717\n",
      "           0       0.92      0.96      0.94      1683\n",
      "\n",
      "    accuracy                           0.94      3400\n",
      "   macro avg       0.94      0.94      0.94      3400\n",
      "weighted avg       0.94      0.94      0.94      3400\n",
      "\n",
      "Accuracy_Score: 93.76470588235294 %\n",
      "Recall: 91.78800232964473 %\n",
      "precision: 95.68913175470553 %\n"
     ]
    }
   ],
   "source": [
    "print(metrics.classification_report(y_test2,y_pred_lr2, labels=[1,0]))\n",
    "print('Accuracy_Score:',accuracy_score(y_test2,y_pred_lr2)*100,'%')\n",
    "print('Recall:',metrics.recall_score(y_test2,y_pred_lr2)*100,'%')\n",
    "print('precision:',metrics.precision_score(y_test2,y_pred_lr2)*100,'%')"
   ]
  },
  {
   "cell_type": "markdown",
   "id": "7f64a127",
   "metadata": {},
   "source": [
    "#### Decision Tree Classifier after dealing with the imbalanced data. using `SMOTE()`."
   ]
  },
  {
   "cell_type": "code",
   "execution_count": 81,
   "id": "4cb55df5",
   "metadata": {},
   "outputs": [],
   "source": [
    "# Train the model\n",
    "dtc2= DecisionTreeClassifier(max_depth= 8,random_state = 0,min_samples_split= 6)\n",
    "dtc2.fit(X_train2, y_train2)\n",
    "y_pred_dtc2 = dtc2.predict(X_test2)"
   ]
  },
  {
   "cell_type": "code",
   "execution_count": 82,
   "id": "8b3124de",
   "metadata": {},
   "outputs": [
    {
     "data": {
      "text/plain": [
       "<AxesSubplot:>"
      ]
     },
     "execution_count": 82,
     "metadata": {},
     "output_type": "execute_result"
    },
    {
     "data": {
      "image/png": "[encoded data removed]",
      "text/plain": [
       "<Figure size 432x288 with 2 Axes>"
      ]
     },
     "metadata": {},
     "output_type": "display_data"
    }
   ],
   "source": [
    "cf_dtc2=metrics.confusion_matrix(y_test2,y_pred_dtc2, labels=[1,0])\n",
    "sns.heatmap(cf_dtc2,annot=True)"
   ]
  },
  {
   "cell_type": "code",
   "execution_count": 83,
   "id": "7f45c186",
   "metadata": {},
   "outputs": [
    {
     "name": "stdout",
     "output_type": "stream",
     "text": [
      "              precision    recall  f1-score   support\n",
      "\n",
      "           1       0.93      0.95      0.94      1717\n",
      "           0       0.95      0.93      0.94      1683\n",
      "\n",
      "    accuracy                           0.94      3400\n",
      "   macro avg       0.94      0.94      0.94      3400\n",
      "weighted avg       0.94      0.94      0.94      3400\n",
      "\n",
      "Accuracy_Score: 94.26470588235294 %\n",
      "Recall: 95.39895165987187 %\n",
      "precision: 93.38654503990878 %\n"
     ]
    }
   ],
   "source": [
    "print(metrics.classification_report(y_test2,y_pred_dtc2, labels=[1,0]))\n",
    "print('Accuracy_Score:',accuracy_score(y_test2,y_pred_dtc2)*100,'%')\n",
    "print('Recall:',metrics.recall_score(y_test2,y_pred_dtc2)*100,'%')\n",
    "print('precision:',metrics.precision_score(y_test2,y_pred_dtc2)*100,'%')"
   ]
  },
  {
   "cell_type": "markdown",
   "id": "8b20bd12",
   "metadata": {},
   "source": [
    "#### Random Forest Classifier after dealing with the imbalanced data. using `SMOTE()`."
   ]
  },
  {
   "cell_type": "code",
   "execution_count": 84,
   "id": "12dfe38d",
   "metadata": {},
   "outputs": [],
   "source": [
    "RFC2 = RandomForestClassifier(random_state = 0,max_depth= 9,min_samples_leaf=1,n_estimators=8)\n",
    "RFC2.fit(X_train2,y_train2)\n",
    "#Predict the response for test dataset\n",
    "y_pred_RFC2 = RFC2.predict(X_test2)"
   ]
  },
  {
   "cell_type": "code",
   "execution_count": 85,
   "id": "68a35edc",
   "metadata": {},
   "outputs": [
    {
     "data": {
      "text/plain": [
       "<AxesSubplot:>"
      ]
     },
     "execution_count": 85,
     "metadata": {},
     "output_type": "execute_result"
    },
    {
     "data": {
      "image/png": "[encoded data removed]",
      "text/plain": [
       "<Figure size 432x288 with 2 Axes>"
      ]
     },
     "metadata": {},
     "output_type": "display_data"
    }
   ],
   "source": [
    "cf_RFC2=metrics.confusion_matrix(y_test2,y_pred_RFC2, labels=[1,0])\n",
    "sns.heatmap(cf_RFC2,annot=True)"
   ]
  },
  {
   "cell_type": "code",
   "execution_count": 86,
   "id": "63d80bf2",
   "metadata": {},
   "outputs": [
    {
     "name": "stdout",
     "output_type": "stream",
     "text": [
      "              precision    recall  f1-score   support\n",
      "\n",
      "           1       0.94      0.96      0.95      1717\n",
      "           0       0.96      0.94      0.95      1683\n",
      "\n",
      "    accuracy                           0.95      3400\n",
      "   macro avg       0.95      0.95      0.95      3400\n",
      "weighted avg       0.95      0.95      0.95      3400\n",
      "\n",
      "Accuracy_Score: 94.91176470588235 %\n",
      "Recall: 95.86488060570763 %\n",
      "precision: 94.16475972540046 %\n"
     ]
    }
   ],
   "source": [
    "print(metrics.classification_report(y_test2,y_pred_RFC2, labels=[1,0]))\n",
    "print('Accuracy_Score:',accuracy_score(y_test2,y_pred_RFC2)*100,'%')\n",
    "print('Recall:',metrics.recall_score(y_test2,y_pred_RFC2)*100,'%')\n",
    "print('precision:',metrics.precision_score(y_test2,y_pred_RFC2)*100,'%')"
   ]
  },
  {
   "cell_type": "markdown",
   "id": "41d3537d",
   "metadata": {},
   "source": [
    "#### XGB Classifier after dealing with the imbalanced data. using `SMOTE()`."
   ]
  },
  {
   "cell_type": "code",
   "execution_count": 87,
   "id": "a882e9a5",
   "metadata": {},
   "outputs": [
    {
     "name": "stdout",
     "output_type": "stream",
     "text": [
      "[09:16:09] WARNING: C:/Users/Administrator/workspace/xgboost-win64_release_1.5.1/src/learner.cc:1115: Starting in XGBoost 1.3.0, the default evaluation metric used with the objective 'binary:logistic' was changed from 'error' to 'logloss'. Explicitly set eval_metric if you'd like to restore the old behavior.\n"
     ]
    }
   ],
   "source": [
    "xgb2=XGBClassifier(colsample_bytree= 0.6, gamma= 1.5, max_depth= 5,min_child_weight= 1,subsample= 1.0)\n",
    "xgb2.fit(X_train2,y_train2)\n",
    "y_pred_xgb2 = xgb2.predict(X_test2)"
   ]
  },
  {
   "cell_type": "code",
   "execution_count": 88,
   "id": "17d9a5b4",
   "metadata": {},
   "outputs": [
    {
     "data": {
      "text/plain": [
       "<AxesSubplot:>"
      ]
     },
     "execution_count": 88,
     "metadata": {},
     "output_type": "execute_result"
    },
    {
     "data": {
      "image/png": "[encoded data removed]",
      "text/plain": [
       "<Figure size 432x288 with 2 Axes>"
      ]
     },
     "metadata": {},
     "output_type": "display_data"
    }
   ],
   "source": [
    "cf_xgb2=metrics.confusion_matrix(y_test2,y_pred_xgb2, labels=[1,0])\n",
    "sns.heatmap(cf_xgb2,annot=True)"
   ]
  },
  {
   "cell_type": "code",
   "execution_count": 89,
   "id": "93b7c2d8",
   "metadata": {},
   "outputs": [
    {
     "name": "stdout",
     "output_type": "stream",
     "text": [
      "              precision    recall  f1-score   support\n",
      "\n",
      "           1       0.98      0.99      0.98      1717\n",
      "           0       0.99      0.98      0.98      1683\n",
      "\n",
      "    accuracy                           0.98      3400\n",
      "   macro avg       0.98      0.98      0.98      3400\n",
      "weighted avg       0.98      0.98      0.98      3400\n",
      "\n",
      "Accuracy_Score: 98.44117647058823 %\n",
      "Recall: 98.60221316249273 %\n",
      "precision: 98.31591173054588 %\n"
     ]
    }
   ],
   "source": [
    "print(metrics.classification_report(y_test2,y_pred_xgb2, labels=[1,0]))\n",
    "print('Accuracy_Score:',accuracy_score(y_test2,y_pred_xgb2)*100,'%')\n",
    "print('Recall:',metrics.recall_score(y_test2,y_pred_xgb2)*100,'%')\n",
    "print('precision:',metrics.precision_score(y_test2,y_pred_xgb2)*100,'%')"
   ]
  },
  {
   "cell_type": "markdown",
   "id": "96315896",
   "metadata": {},
   "source": [
    "#### LGBM Classifier after dealing with the imbalanced data. using `SMOTE()`."
   ]
  },
  {
   "cell_type": "code",
   "execution_count": 90,
   "id": "e59831bd",
   "metadata": {
    "scrolled": false
   },
   "outputs": [
    {
     "name": "stdout",
     "output_type": "stream",
     "text": [
      "[LightGBM] [Warning] Unknown parameter: bagging_frequency\n",
      "[LightGBM] [Warning] feature_fraction is set=0.8, colsample_bytree=1.0 will be ignored. Current value: feature_fraction=0.8\n",
      "[LightGBM] [Warning] min_data_in_leaf is set=120, min_child_samples=20 will be ignored. Current value: min_data_in_leaf=120\n",
      "[LightGBM] [Warning] bagging_fraction is set=0.5, subsample=1.0 will be ignored. Current value: bagging_fraction=0.5\n"
     ]
    }
   ],
   "source": [
    "lgbm2=LGBMClassifier(bagging_fraction= 0.5,bagging_frequency= 5,feature_fraction= 0.8,max_depth= 13,\n",
    "                     min_data_in_leaf= 120,num_leaves= 1200)\n",
    "lgbm2.fit(X_train2,y_train2)\n",
    "y_pred_lgbm2=lgbm2.predict(X_test2)"
   ]
  },
  {
   "cell_type": "code",
   "execution_count": 91,
   "id": "c95909b1",
   "metadata": {
    "scrolled": true
   },
   "outputs": [
    {
     "data": {
      "text/plain": [
       "<AxesSubplot:>"
      ]
     },
     "execution_count": 91,
     "metadata": {},
     "output_type": "execute_result"
    },
    {
     "data": {
      "image/png": "[encoded data removed]",
      "text/plain": [
       "<Figure size 432x288 with 2 Axes>"
      ]
     },
     "metadata": {},
     "output_type": "display_data"
    }
   ],
   "source": [
    "cf_lgbm2=metrics.confusion_matrix(y_test2,y_pred_lgbm2, labels=[1,0])\n",
    "sns.heatmap(cf_lgbm2,annot=True)"
   ]
  },
  {
   "cell_type": "code",
   "execution_count": 92,
   "id": "3d6ed8b6",
   "metadata": {
    "scrolled": true
   },
   "outputs": [
    {
     "name": "stdout",
     "output_type": "stream",
     "text": [
      "              precision    recall  f1-score   support\n",
      "\n",
      "           1       0.98      0.99      0.99      1717\n",
      "           0       0.99      0.98      0.99      1683\n",
      "\n",
      "    accuracy                           0.99      3400\n",
      "   macro avg       0.99      0.99      0.99      3400\n",
      "weighted avg       0.99      0.99      0.99      3400\n",
      "\n",
      "Accuracy_Score: 98.52941176470588 %\n",
      "Recall: 98.71869539895167 %\n",
      "precision: 98.3749274521184 %\n"
     ]
    }
   ],
   "source": [
    "# Making the Report of the model\n",
    "\n",
    "print(metrics.classification_report(y_test2,y_pred_lgbm2, labels=[1,0]))\n",
    "print('Accuracy_Score:',accuracy_score(y_test2,y_pred_lgbm2)*100,'%')\n",
    "print('Recall:',metrics.recall_score(y_test2,y_pred_lgbm2)*100,'%')\n",
    "print('precision:',metrics.precision_score(y_test2,y_pred_lgbm2)*100,'%')"
   ]
  },
  {
   "cell_type": "markdown",
   "id": "0a515966",
   "metadata": {},
   "source": [
    "### Receiver Operating Characterstic Curve after dealing with the imbalanced data. Using `SMOTE()`."
   ]
  },
  {
   "cell_type": "code",
   "execution_count": 93,
   "id": "6499be4f",
   "metadata": {},
   "outputs": [
    {
     "data": {
      "image/png": "[encoded data removed]",
      "text/plain": [
       "<Figure size 720x360 with 1 Axes>"
      ]
     },
     "metadata": {},
     "output_type": "display_data"
    }
   ],
   "source": [
    "lr_false_positive_rate,lr_true_positive_rate,lr_threshold = metrics.roc_curve(y_test2,y_pred_lr2)\n",
    "RFC_false_positive_rate,RFC_true_positive_rate,RFC_threshold = metrics.roc_curve(y_test2,y_pred_RFC2)                                                             \n",
    "xgb_false_positive_rate,xgb_true_positive_rate,xgb_threshold = metrics.roc_curve(y_test2,y_pred_xgb2)\n",
    "knn_false_positive_rate,knn_true_positive_rate,knn_threshold = metrics.roc_curve(y_test2,y_pred_knn2)\n",
    "dtc_false_positive_rate,dtc_true_positive_rate,dtc_threshold = metrics.roc_curve(y_test2,y_pred_dtc2)\n",
    "lgbm_false_positive_rate,lgbm_true_positive_rate,lgbm_threshold = metrics.roc_curve(y_test2,y_pred_lgbm2)\n",
    "\n",
    "\n",
    "sns.set_style('whitegrid')\n",
    "plt.figure(figsize=(10,5))\n",
    "plt.title('Receiver Operating Characterstic Curve')\n",
    "plt.plot(lr_false_positive_rate,lr_true_positive_rate,label='Logistic Regression')\n",
    "plt.plot(RFC_false_positive_rate,RFC_true_positive_rate,label='Random Forest')\n",
    "plt.plot(xgb_false_positive_rate,xgb_true_positive_rate,label='Extreme Gradient Boost')\n",
    "plt.plot(knn_false_positive_rate,knn_true_positive_rate,label='K-Nearest Neighbor')\n",
    "plt.plot(dtc_false_positive_rate,dtc_true_positive_rate,label='Desion Tree')\n",
    "plt.plot(dtc_false_positive_rate,dtc_true_positive_rate,label='Light Gradient Boost')\n",
    "\n",
    "plt.plot([0,1],ls='--')\n",
    "plt.plot([0,0],[1,0],c='.5')\n",
    "plt.plot([1,1],c='.5')\n",
    "plt.ylabel('True positive rate')\n",
    "plt.xlabel('False positive rate')\n",
    "plt.legend()\n",
    "plt.show()"
   ]
  },
  {
   "cell_type": "markdown",
   "id": "3e3dbc64",
   "metadata": {},
   "source": [
    "## Staking"
   ]
  },
  {
   "cell_type": "markdown",
   "id": "5c7cae68",
   "metadata": {},
   "source": [
    "### Staking with the imbalanced data"
   ]
  },
  {
   "cell_type": "code",
   "execution_count": 94,
   "id": "4b8f3dbc",
   "metadata": {
    "scrolled": false
   },
   "outputs": [
    {
     "name": "stdout",
     "output_type": "stream",
     "text": [
      "[09:16:13] WARNING: C:/Users/Administrator/workspace/xgboost-win64_release_1.5.1/src/learner.cc:1115: Starting in XGBoost 1.3.0, the default evaluation metric used with the objective 'binary:logistic' was changed from 'error' to 'logloss'. Explicitly set eval_metric if you'd like to restore the old behavior.\n",
      "[09:16:14] WARNING: C:/Users/Administrator/workspace/xgboost-win64_release_1.5.1/src/learner.cc:1115: Starting in XGBoost 1.3.0, the default evaluation metric used with the objective 'binary:logistic' was changed from 'error' to 'logloss'. Explicitly set eval_metric if you'd like to restore the old behavior.\n",
      "[09:16:19] WARNING: C:/Users/Administrator/workspace/xgboost-win64_release_1.5.1/src/learner.cc:1115: Starting in XGBoost 1.3.0, the default evaluation metric used with the objective 'binary:logistic' was changed from 'error' to 'logloss'. Explicitly set eval_metric if you'd like to restore the old behavior.\n",
      "confussion matrix\n",
      "[[1689   12]\n",
      " [  43  282]]\n",
      "              precision    recall  f1-score   support\n",
      "\n",
      "           0       0.98      0.99      0.98      1701\n",
      "           1       0.96      0.87      0.91       325\n",
      "\n",
      "    accuracy                           0.97      2026\n",
      "   macro avg       0.97      0.93      0.95      2026\n",
      "weighted avg       0.97      0.97      0.97      2026\n",
      "\n",
      "\n",
      "\n",
      "Accuracy of StackingCVClassifier: 97.28529121421519\n",
      "Recall of StackingCVClassifier: 86.76923076923076 %\n",
      "precision of StackingCVClassifier: 95.91836734693877 %\n"
     ]
    }
   ],
   "source": [
    "scv=StackingCVClassifier(classifiers=[xgb,knn,RFC],meta_classifier= RFC,random_state=42)\n",
    "scv.fit(X_train,y_train)\n",
    "scv_predicted = scv.predict(X_test)\n",
    "scv_conf_matrix = confusion_matrix(y_test, scv_predicted)\n",
    "scv_acc_score = accuracy_score(y_test, scv_predicted)\n",
    "print(\"confussion matrix\")\n",
    "print(scv_conf_matrix)\n",
    "\n",
    "\n",
    "print(classification_report(y_test,scv_predicted))\n",
    "print(\"\\n\")\n",
    "print(\"Accuracy of StackingCVClassifier:\",scv_acc_score*100)\n",
    "print('Recall of StackingCVClassifier:',metrics.recall_score(y_test,scv_predicted)*100,'%')\n",
    "print('precision of StackingCVClassifier:',metrics.precision_score(y_test,scv_predicted)*100,'%')"
   ]
  },
  {
   "cell_type": "markdown",
   "id": "600d7dfa",
   "metadata": {},
   "source": [
    "### Staking after dealing the imbalanced data"
   ]
  },
  {
   "cell_type": "code",
   "execution_count": 95,
   "id": "2af2b115",
   "metadata": {
    "scrolled": false
   },
   "outputs": [
    {
     "name": "stdout",
     "output_type": "stream",
     "text": [
      "[09:16:22] WARNING: C:/Users/Administrator/workspace/xgboost-win64_release_1.5.1/src/learner.cc:1115: Starting in XGBoost 1.3.0, the default evaluation metric used with the objective 'binary:logistic' was changed from 'error' to 'logloss'. Explicitly set eval_metric if you'd like to restore the old behavior.\n",
      "[09:16:23] WARNING: C:/Users/Administrator/workspace/xgboost-win64_release_1.5.1/src/learner.cc:1115: Starting in XGBoost 1.3.0, the default evaluation metric used with the objective 'binary:logistic' was changed from 'error' to 'logloss'. Explicitly set eval_metric if you'd like to restore the old behavior.\n",
      "[LightGBM] [Warning] Unknown parameter: bagging_frequency\n",
      "[LightGBM] [Warning] feature_fraction is set=0.8, colsample_bytree=1.0 will be ignored. Current value: feature_fraction=0.8\n",
      "[LightGBM] [Warning] min_data_in_leaf is set=120, min_child_samples=20 will be ignored. Current value: min_data_in_leaf=120\n",
      "[LightGBM] [Warning] bagging_fraction is set=0.5, subsample=1.0 will be ignored. Current value: bagging_fraction=0.5\n",
      "[LightGBM] [Warning] Unknown parameter: bagging_frequency\n",
      "[LightGBM] [Warning] feature_fraction is set=0.8, colsample_bytree=1.0 will be ignored. Current value: feature_fraction=0.8\n",
      "[LightGBM] [Warning] min_data_in_leaf is set=120, min_child_samples=20 will be ignored. Current value: min_data_in_leaf=120\n",
      "[LightGBM] [Warning] bagging_fraction is set=0.5, subsample=1.0 will be ignored. Current value: bagging_fraction=0.5\n",
      "[09:16:26] WARNING: C:/Users/Administrator/workspace/xgboost-win64_release_1.5.1/src/learner.cc:1115: Starting in XGBoost 1.3.0, the default evaluation metric used with the objective 'binary:logistic' was changed from 'error' to 'logloss'. Explicitly set eval_metric if you'd like to restore the old behavior.\n",
      "[LightGBM] [Warning] Unknown parameter: bagging_frequency\n",
      "[LightGBM] [Warning] feature_fraction is set=0.8, colsample_bytree=1.0 will be ignored. Current value: feature_fraction=0.8\n",
      "[LightGBM] [Warning] min_data_in_leaf is set=120, min_child_samples=20 will be ignored. Current value: min_data_in_leaf=120\n",
      "[LightGBM] [Warning] bagging_fraction is set=0.5, subsample=1.0 will be ignored. Current value: bagging_fraction=0.5\n",
      "confussion matrix\n",
      "[[1652   31]\n",
      " [  23 1694]]\n",
      "\n",
      "\n",
      "              precision    recall  f1-score   support\n",
      "\n",
      "           0       0.99      0.98      0.98      1683\n",
      "           1       0.98      0.99      0.98      1717\n",
      "\n",
      "    accuracy                           0.98      3400\n",
      "   macro avg       0.98      0.98      0.98      3400\n",
      "weighted avg       0.98      0.98      0.98      3400\n",
      "\n",
      "\n",
      "\n",
      "Accuracy of StackingCVClassifier: 98.41176470588235\n",
      "Recall of StackingCVClassifier: 98.66045428072219 %\n",
      "precision of StackingCVClassifier: 98.20289855072464 %\n"
     ]
    }
   ],
   "source": [
    "scv2=StackingCVClassifier(classifiers=[xgb2,lgbm2,RFC2],meta_classifier= lgbm2,random_state=42)\n",
    "scv2.fit(X_train2,y_train2)\n",
    "scv_predicted_2 = scv2.predict(X_test2)\n",
    "scv_conf_matrix_2 = confusion_matrix(y_test2, scv_predicted_2)\n",
    "scv_acc_score_2 = accuracy_score(y_test2, scv_predicted_2)\n",
    "print(\"confussion matrix\")\n",
    "print(scv_conf_matrix_2)\n",
    "print(\"\\n\")\n",
    "print(classification_report(y_test2,scv_predicted_2))\n",
    "print(\"\\n\")\n",
    "print(\"Accuracy of StackingCVClassifier:\",scv_acc_score_2*100,)\n",
    "print('Recall of StackingCVClassifier:',metrics.recall_score(y_test2,scv_predicted_2)*100,'%')\n",
    "print('precision of StackingCVClassifier:',metrics.precision_score(y_test2,scv_predicted_2)*100,'%')"
   ]
  },
  {
   "cell_type": "markdown",
   "id": "ad290d3e",
   "metadata": {},
   "source": [
    "- As we can see from the stacking results the LGBM Classifier had better results, so we don't need the stacking."
   ]
  },
  {
   "cell_type": "code",
   "execution_count": null,
   "id": "78d6187c",
   "metadata": {},
   "outputs": [],
   "source": []
  }
 ],
 "metadata": {
  "kernelspec": {
   "display_name": "Python 3",
   "language": "python",
   "name": "python3"
  },
  "language_info": {
   "codemirror_mode": {
    "name": "ipython",
    "version": 3
   },
   "file_extension": ".py",
   "mimetype": "text/x-python",
   "name": "python",
   "nbconvert_exporter": "python",
   "pygments_lexer": "ipython3",
   "version": "3.8.8"
  }
 },
 "nbformat": 4,
 "nbformat_minor": 5
}
